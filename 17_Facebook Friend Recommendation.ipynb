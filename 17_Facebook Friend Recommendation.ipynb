{
  "nbformat": 4,
  "nbformat_minor": 0,
  "metadata": {
    "colab": {
      "name": "FB_Models_Mine.ipynb",
      "provenance": [],
      "collapsed_sections": []
    },
    "kernelspec": {
      "display_name": "Python 3",
      "language": "python",
      "name": "python3"
    }
  },
  "cells": [
    {
      "cell_type": "markdown",
      "metadata": {
        "id": "naWvqMEMHglO",
        "colab_type": "text"
      },
      "source": [
        "<p style=\"font-size:32px;text-align:center\"> <b>Social network Graph Link Prediction - Facebook Challenge</b> </p>"
      ]
    },
    {
      "cell_type": "code",
      "metadata": {
        "id": "9wb9N5RzHglP",
        "colab_type": "code",
        "colab": {}
      },
      "source": [
        "#Importing Libraries\n",
        "# please do go through this python notebook: \n",
        "import warnings\n",
        "warnings.filterwarnings(\"ignore\")\n",
        "\n",
        "import csv\n",
        "import pandas as pd#pandas to create small dataframes \n",
        "import datetime #Convert to unix time\n",
        "import time #Convert to unix time\n",
        "# if numpy is not installed already : pip3 install numpy\n",
        "import numpy as np#Do aritmetic operations on arrays\n",
        "# matplotlib: used to plot graphs\n",
        "import matplotlib\n",
        "import matplotlib.pylab as plt\n",
        "import seaborn as sns#Plots\n",
        "from matplotlib import rcParams#Size of plots  \n",
        "from sklearn.cluster import MiniBatchKMeans, KMeans#Clustering\n",
        "import math\n",
        "import pickle\n",
        "import os\n",
        "# to install xgboost: pip3 install xgboost\n",
        "import xgboost as xgb\n",
        "\n",
        "import warnings\n",
        "import networkx as nx\n",
        "import pdb\n",
        "import pickle\n",
        "from pandas import HDFStore,DataFrame\n",
        "from pandas import read_hdf\n",
        "from scipy.sparse.linalg import svds, eigs\n",
        "import gc\n",
        "from tqdm import tqdm\n",
        "from sklearn.ensemble import RandomForestClassifier\n",
        "from sklearn.metrics import f1_score"
      ],
      "execution_count": 1,
      "outputs": []
    },
    {
      "cell_type": "code",
      "metadata": {
        "id": "eqJSufWb3OqW",
        "colab_type": "code",
        "colab": {
          "base_uri": "https://localhost:8080/",
          "height": 124
        },
        "outputId": "f49b8e5f-23d1-4fb3-bece-e516a3fbf2f8"
      },
      "source": [
        "from google.colab import drive\n",
        "drive.mount('/content/drive')"
      ],
      "execution_count": 2,
      "outputs": [
        {
          "output_type": "stream",
          "text": [
            "Go to this URL in a browser: https://accounts.google.com/o/oauth2/auth?client_id=947318989803-6bn6qk8qdgf4n4g3pfee6491hc0brc4i.apps.googleusercontent.com&redirect_uri=urn%3aietf%3awg%3aoauth%3a2.0%3aoob&response_type=code&scope=email%20https%3a%2f%2fwww.googleapis.com%2fauth%2fdocs.test%20https%3a%2f%2fwww.googleapis.com%2fauth%2fdrive%20https%3a%2f%2fwww.googleapis.com%2fauth%2fdrive.photos.readonly%20https%3a%2f%2fwww.googleapis.com%2fauth%2fpeopleapi.readonly\n",
            "\n",
            "Enter your authorization code:\n",
            "··········\n",
            "Mounted at /content/drive\n"
          ],
          "name": "stdout"
        }
      ]
    },
    {
      "cell_type": "code",
      "metadata": {
        "id": "wXpAJlgY3WlW",
        "colab_type": "code",
        "colab": {}
      },
      "source": [
        "SSS5 = 'drive/My Drive/Applied AI Course/Assignments/17. Facebook Friend Recommendation/fea_sample/storage_sample_stage4.h5'"
      ],
      "execution_count": 3,
      "outputs": []
    },
    {
      "cell_type": "code",
      "metadata": {
        "id": "XC4OJFKkHglU",
        "colab_type": "code",
        "colab": {}
      },
      "source": [
        "#reading\n",
        "from pandas import read_hdf\n",
        "df_final_train = read_hdf(SSS5, 'train_df',mode='r')\n",
        "df_final_test = read_hdf(SSS5, 'test_df',mode='r')"
      ],
      "execution_count": 4,
      "outputs": []
    },
    {
      "cell_type": "code",
      "metadata": {
        "id": "5Gm-BHRkHglW",
        "colab_type": "code",
        "colab": {},
        "outputId": "d2c2294c-113e-4fdb-d3e5-dc167dcf5fbc"
      },
      "source": [
        "df_final_train.columns"
      ],
      "execution_count": null,
      "outputs": [
        {
          "output_type": "execute_result",
          "data": {
            "text/plain": [
              "Index(['source_node', 'destination_node', 'indicator_link',\n",
              "       'jaccard_followers', 'jaccard_followees', 'cosine_followers',\n",
              "       'cosine_followees', 'num_followers_s', 'num_followees_s',\n",
              "       'num_followees_d', 'inter_followers', 'inter_followees', 'adar_index',\n",
              "       'follows_back', 'same_comp', 'shortest_path', 'weight_in', 'weight_out',\n",
              "       'weight_f1', 'weight_f2', 'weight_f3', 'weight_f4', 'page_rank_s',\n",
              "       'page_rank_d', 'katz_s', 'katz_d', 'hubs_s', 'hubs_d', 'authorities_s',\n",
              "       'authorities_d', 'svd_u_s_1', 'svd_u_s_2', 'svd_u_s_3', 'svd_u_s_4',\n",
              "       'svd_u_s_5', 'svd_u_s_6', 'svd_u_d_1', 'svd_u_d_2', 'svd_u_d_3',\n",
              "       'svd_u_d_4', 'svd_u_d_5', 'svd_u_d_6', 'svd_v_s_1', 'svd_v_s_2',\n",
              "       'svd_v_s_3', 'svd_v_s_4', 'svd_v_s_5', 'svd_v_s_6', 'svd_v_d_1',\n",
              "       'svd_v_d_2', 'svd_v_d_3', 'svd_v_d_4', 'svd_v_d_5', 'svd_v_d_6'],\n",
              "      dtype='object')"
            ]
          },
          "metadata": {
            "tags": []
          },
          "execution_count": 3
        }
      ]
    },
    {
      "cell_type": "code",
      "metadata": {
        "id": "XRW7VZ4AHglc",
        "colab_type": "code",
        "colab": {}
      },
      "source": [
        "y_train = df_final_train.indicator_link\n",
        "y_test = df_final_test.indicator_link"
      ],
      "execution_count": null,
      "outputs": []
    },
    {
      "cell_type": "code",
      "metadata": {
        "id": "4lj9M_qtHglf",
        "colab_type": "code",
        "colab": {}
      },
      "source": [
        "df_final_train.drop(['source_node', 'destination_node','indicator_link'],axis=1,inplace=True)\n",
        "df_final_test.drop(['source_node', 'destination_node','indicator_link'],axis=1,inplace=True)"
      ],
      "execution_count": null,
      "outputs": []
    },
    {
      "cell_type": "code",
      "metadata": {
        "id": "lIEc91uVHgli",
        "colab_type": "code",
        "colab": {},
        "outputId": "31f04b72-ebe5-4b13-ccca-a5ae3bc4f09c"
      },
      "source": [
        "estimators = [10,50,100,250,450]\n",
        "train_scores = []\n",
        "test_scores = []\n",
        "for i in estimators:\n",
        "    clf = RandomForestClassifier(bootstrap=True, class_weight=None, criterion='gini',\n",
        "            max_depth=5, max_features='auto', max_leaf_nodes=None,\n",
        "            min_impurity_decrease=0.0, min_impurity_split=None,\n",
        "            min_samples_leaf=52, min_samples_split=120,\n",
        "            min_weight_fraction_leaf=0.0, n_estimators=i, n_jobs=-1,random_state=25,verbose=0,warm_start=False)\n",
        "    clf.fit(df_final_train,y_train)\n",
        "    train_sc = f1_score(y_train,clf.predict(df_final_train))\n",
        "    test_sc = f1_score(y_test,clf.predict(df_final_test))\n",
        "    test_scores.append(test_sc)\n",
        "    train_scores.append(train_sc)\n",
        "    print('Estimators = ',i,'Train Score',train_sc,'test Score',test_sc)\n",
        "plt.plot(estimators,train_scores,label='Train Score')\n",
        "plt.plot(estimators,test_scores,label='Test Score')\n",
        "plt.xlabel('Estimators')\n",
        "plt.ylabel('Score')\n",
        "plt.title('Estimators vs score at depth of 5')"
      ],
      "execution_count": null,
      "outputs": [
        {
          "output_type": "stream",
          "text": [
            "Estimators =  10 Train Score 0.9063252121775113 test Score 0.8745605278006858\n",
            "Estimators =  50 Train Score 0.9205725512208812 test Score 0.9125653355634538\n",
            "Estimators =  100 Train Score 0.9238690848446947 test Score 0.9141199714153599\n",
            "Estimators =  250 Train Score 0.9239789348046863 test Score 0.9188007232664732\n",
            "Estimators =  450 Train Score 0.9237190618658074 test Score 0.9161507685828595\n"
          ],
          "name": "stdout"
        },
        {
          "output_type": "execute_result",
          "data": {
            "text/plain": [
              "Text(0.5,1,'Estimators vs score at depth of 5')"
            ]
          },
          "metadata": {
            "tags": []
          },
          "execution_count": 6
        },
        {
          "output_type": "display_data",
          "data": {
            "image/png": "[encoded data removed]",
            "text/plain": [
              "<Figure size 432x288 with 1 Axes>"
            ]
          },
          "metadata": {
            "tags": []
          }
        }
      ]
    },
    {
      "cell_type": "code",
      "metadata": {
        "id": "nZxhrTdQHglm",
        "colab_type": "code",
        "colab": {},
        "outputId": "53382b8e-148d-4c22-8066-d9807fb27012"
      },
      "source": [
        "depths = [3,9,11,15,20,35,50,70,130]\n",
        "train_scores = []\n",
        "test_scores = []\n",
        "for i in depths:\n",
        "    clf = RandomForestClassifier(bootstrap=True, class_weight=None, criterion='gini',\n",
        "            max_depth=i, max_features='auto', max_leaf_nodes=None,\n",
        "            min_impurity_decrease=0.0, min_impurity_split=None,\n",
        "            min_samples_leaf=52, min_samples_split=120,\n",
        "            min_weight_fraction_leaf=0.0, n_estimators=115, n_jobs=-1,random_state=25,verbose=0,warm_start=False)\n",
        "    clf.fit(df_final_train,y_train)\n",
        "    train_sc = f1_score(y_train,clf.predict(df_final_train))\n",
        "    test_sc = f1_score(y_test,clf.predict(df_final_test))\n",
        "    test_scores.append(test_sc)\n",
        "    train_scores.append(train_sc)\n",
        "    print('depth = ',i,'Train Score',train_sc,'test Score',test_sc)\n",
        "plt.plot(depths,train_scores,label='Train Score')\n",
        "plt.plot(depths,test_scores,label='Test Score')\n",
        "plt.xlabel('Depth')\n",
        "plt.ylabel('Score')\n",
        "plt.title('Depth vs score at depth of 5 at estimators = 115')\n",
        "plt.show()"
      ],
      "execution_count": null,
      "outputs": [
        {
          "output_type": "stream",
          "text": [
            "depth =  3 Train Score 0.8916120853581238 test Score 0.8687934859875491\n",
            "depth =  9 Train Score 0.9572226298198419 test Score 0.9222953031452904\n",
            "depth =  11 Train Score 0.9623451340902863 test Score 0.9252318758281279\n",
            "depth =  15 Train Score 0.9634267621927706 test Score 0.9231288356496615\n",
            "depth =  20 Train Score 0.9631629153051491 test Score 0.9235051024711141\n",
            "depth =  35 Train Score 0.9634333127085721 test Score 0.9235601652753184\n",
            "depth =  50 Train Score 0.9634333127085721 test Score 0.9235601652753184\n",
            "depth =  70 Train Score 0.9634333127085721 test Score 0.9235601652753184\n",
            "depth =  130 Train Score 0.9634333127085721 test Score 0.9235601652753184\n"
          ],
          "name": "stdout"
        },
        {
          "output_type": "display_data",
          "data": {
            "image/png": "[encoded data removed]",
            "text/plain": [
              "<Figure size 432x288 with 1 Axes>"
            ]
          },
          "metadata": {
            "tags": []
          }
        }
      ]
    },
    {
      "cell_type": "code",
      "metadata": {
        "id": "MrG1Lfl3Hglq",
        "colab_type": "code",
        "colab": {},
        "outputId": "7b6e3c97-8d66-455d-cd79-213f824719cc"
      },
      "source": [
        "from sklearn.metrics import f1_score\n",
        "from sklearn.ensemble import RandomForestClassifier\n",
        "from sklearn.metrics import f1_score\n",
        "from sklearn.model_selection import RandomizedSearchCV\n",
        "from scipy.stats import randint as sp_randint\n",
        "from scipy.stats import uniform\n",
        "\n",
        "param_dist = {\"n_estimators\":sp_randint(105,125),\n",
        "              \"max_depth\": sp_randint(10,15),\n",
        "              \"min_samples_split\": sp_randint(110,190),\n",
        "              \"min_samples_leaf\": sp_randint(25,65)}\n",
        "\n",
        "clf = RandomForestClassifier(random_state=25,n_jobs=-1)\n",
        "\n",
        "rf_random = RandomizedSearchCV(clf, param_distributions=param_dist,\n",
        "                                   n_iter=5,cv=10,scoring='f1',random_state=25)\n",
        "\n",
        "rf_random.fit(df_final_train,y_train)\n",
        "print('mean test scores',rf_random.cv_results_['mean_test_score'])\n",
        "print('mean train scores',rf_random.cv_results_['mean_train_score'])"
      ],
      "execution_count": null,
      "outputs": [
        {
          "output_type": "stream",
          "text": [
            "mean test scores [0.96225043 0.96215493 0.96057081 0.96194015 0.96330005]\n",
            "mean train scores [0.96294922 0.96266735 0.96115674 0.96263457 0.96430539]\n"
          ],
          "name": "stdout"
        }
      ]
    },
    {
      "cell_type": "code",
      "metadata": {
        "id": "hme3j_diHglu",
        "colab_type": "code",
        "colab": {},
        "outputId": "581ccc02-7770-4a94-d003-257af4e81570"
      },
      "source": [
        "print(rf_random.best_estimator_)"
      ],
      "execution_count": null,
      "outputs": [
        {
          "output_type": "stream",
          "text": [
            "RandomForestClassifier(bootstrap=True, class_weight=None, criterion='gini',\n",
            "            max_depth=14, max_features='auto', max_leaf_nodes=None,\n",
            "            min_impurity_decrease=0.0, min_impurity_split=None,\n",
            "            min_samples_leaf=28, min_samples_split=111,\n",
            "            min_weight_fraction_leaf=0.0, n_estimators=121, n_jobs=-1,\n",
            "            oob_score=False, random_state=25, verbose=0, warm_start=False)\n"
          ],
          "name": "stdout"
        }
      ]
    },
    {
      "cell_type": "code",
      "metadata": {
        "id": "qu4KIEweHglx",
        "colab_type": "code",
        "colab": {}
      },
      "source": [
        "clf = RandomForestClassifier(bootstrap=True, class_weight=None, criterion='gini',\n",
        "            max_depth=14, max_features='auto', max_leaf_nodes=None,\n",
        "            min_impurity_decrease=0.0, min_impurity_split=None,\n",
        "            min_samples_leaf=28, min_samples_split=111,\n",
        "            min_weight_fraction_leaf=0.0, n_estimators=121, n_jobs=-1,\n",
        "            oob_score=False, random_state=25, verbose=0, warm_start=False)"
      ],
      "execution_count": null,
      "outputs": []
    },
    {
      "cell_type": "code",
      "metadata": {
        "id": "Dax83GfLHgl1",
        "colab_type": "code",
        "colab": {}
      },
      "source": [
        "clf.fit(df_final_train,y_train)\n",
        "y_train_pred = clf.predict(df_final_train)\n",
        "y_test_pred = clf.predict(df_final_test)"
      ],
      "execution_count": null,
      "outputs": []
    },
    {
      "cell_type": "code",
      "metadata": {
        "id": "PTtAp1iTHgl4",
        "colab_type": "code",
        "colab": {},
        "outputId": "e2e3d725-3c4d-4374-d303-8f294b570977"
      },
      "source": [
        "from sklearn.metrics import f1_score\n",
        "print('Train f1 score',f1_score(y_train,y_train_pred))\n",
        "print('Test f1 score',f1_score(y_test,y_test_pred))"
      ],
      "execution_count": null,
      "outputs": [
        {
          "output_type": "stream",
          "text": [
            "Train f1 score 0.9652533106548414\n",
            "Test f1 score 0.9241678239279553\n"
          ],
          "name": "stdout"
        }
      ]
    },
    {
      "cell_type": "code",
      "metadata": {
        "id": "5XfUkZYQHgl7",
        "colab_type": "code",
        "colab": {}
      },
      "source": [
        "from sklearn.metrics import confusion_matrix\n",
        "def plot_confusion_matrix(test_y, predict_y):\n",
        "    C = confusion_matrix(test_y, predict_y)\n",
        "    \n",
        "    A =(((C.T)/(C.sum(axis=1))).T)\n",
        "    \n",
        "    B =(C/C.sum(axis=0))\n",
        "    plt.figure(figsize=(20,4))\n",
        "    \n",
        "    labels = [0,1]\n",
        "    # representing A in heatmap format\n",
        "    cmap=sns.light_palette(\"blue\")\n",
        "    plt.subplot(1, 3, 1)\n",
        "    sns.heatmap(C, annot=True, cmap=cmap, fmt=\".3f\", xticklabels=labels, yticklabels=labels)\n",
        "    plt.xlabel('Predicted Class')\n",
        "    plt.ylabel('Original Class')\n",
        "    plt.title(\"Confusion matrix\")\n",
        "    \n",
        "    plt.subplot(1, 3, 2)\n",
        "    sns.heatmap(B, annot=True, cmap=cmap, fmt=\".3f\", xticklabels=labels, yticklabels=labels)\n",
        "    plt.xlabel('Predicted Class')\n",
        "    plt.ylabel('Original Class')\n",
        "    plt.title(\"Precision matrix\")\n",
        "    \n",
        "    plt.subplot(1, 3, 3)\n",
        "    # representing B in heatmap format\n",
        "    sns.heatmap(A, annot=True, cmap=cmap, fmt=\".3f\", xticklabels=labels, yticklabels=labels)\n",
        "    plt.xlabel('Predicted Class')\n",
        "    plt.ylabel('Original Class')\n",
        "    plt.title(\"Recall matrix\")\n",
        "    \n",
        "    plt.show()"
      ],
      "execution_count": 5,
      "outputs": []
    },
    {
      "cell_type": "code",
      "metadata": {
        "id": "s6t11dhTHgl-",
        "colab_type": "code",
        "colab": {},
        "outputId": "189de3be-1c99-4653-f56f-12b18b0f4db7"
      },
      "source": [
        "print('Train confusion_matrix')\n",
        "plot_confusion_matrix(y_train,y_train_pred)\n",
        "print('Test confusion_matrix')\n",
        "plot_confusion_matrix(y_test,y_test_pred)"
      ],
      "execution_count": null,
      "outputs": [
        {
          "output_type": "stream",
          "text": [
            "Train confusion_matrix\n"
          ],
          "name": "stdout"
        },
        {
          "output_type": "display_data",
          "data": {
            "image/png": "[encoded data removed]",
            "text/plain": [
              "<Figure size 1440x288 with 6 Axes>"
            ]
          },
          "metadata": {
            "tags": []
          }
        },
        {
          "output_type": "stream",
          "text": [
            "Test confusion_matrix\n"
          ],
          "name": "stdout"
        },
        {
          "output_type": "display_data",
          "data": {
            "image/png": "[encoded data removed]",
            "text/plain": [
              "<Figure size 1440x288 with 6 Axes>"
            ]
          },
          "metadata": {
            "tags": []
          }
        }
      ]
    },
    {
      "cell_type": "code",
      "metadata": {
        "id": "61TF-VLeHgmD",
        "colab_type": "code",
        "colab": {},
        "outputId": "795f1b39-61c7-470f-e2d0-1fe6dc7ac5fd"
      },
      "source": [
        "from sklearn.metrics import roc_curve, auc\n",
        "fpr,tpr,ths = roc_curve(y_test,y_test_pred)\n",
        "auc_sc = auc(fpr, tpr)\n",
        "plt.plot(fpr, tpr, color='navy',label='ROC curve (area = %0.2f)' % auc_sc)\n",
        "plt.xlabel('False Positive Rate')\n",
        "plt.ylabel('True Positive Rate')\n",
        "plt.title('Receiver operating characteristic with test data')\n",
        "plt.legend()\n",
        "plt.show()"
      ],
      "execution_count": null,
      "outputs": [
        {
          "output_type": "display_data",
          "data": {
            "image/png": "[encoded data removed]",
            "text/plain": [
              "<Figure size 432x288 with 1 Axes>"
            ]
          },
          "metadata": {
            "tags": []
          }
        }
      ]
    },
    {
      "cell_type": "code",
      "metadata": {
        "scrolled": false,
        "id": "HEZ7uvN6HgmK",
        "colab_type": "code",
        "colab": {},
        "outputId": "6f762256-54fc-4e2f-865b-22342033eb2c"
      },
      "source": [
        "features = df_final_train.columns\n",
        "importances = clf.feature_importances_\n",
        "indices = (np.argsort(importances))[-25:]\n",
        "plt.figure(figsize=(10,12))\n",
        "plt.title('Feature Importances')\n",
        "plt.barh(range(len(indices)), importances[indices], color='r', align='center')\n",
        "plt.yticks(range(len(indices)), [features[i] for i in indices])\n",
        "plt.xlabel('Relative Importance')\n",
        "plt.show()"
      ],
      "execution_count": null,
      "outputs": [
        {
          "output_type": "display_data",
          "data": {
            "image/png": "[encoded data removed]",
            "text/plain": [
              "<Figure size 720x864 with 1 Axes>"
            ]
          },
          "metadata": {
            "tags": []
          }
        }
      ]
    },
    {
      "cell_type": "markdown",
      "metadata": {
        "id": "xdHW32hcHgmN",
        "colab_type": "text"
      },
      "source": [
        "# Assignments:\n",
        "\n",
        "1. Add another feature called  Preferential Attachment  with followers and followees data of vertex. you can check about Preferential Attachment in below link\n",
        "http://be.amazd.com/link-prediction/ <br>\n",
        "2. Add  feature called svd_dot. you can calculate svd_dot as Dot product between sourse node svd and destination node svd features.  you can read about this in below pdf \n",
        "https://storage.googleapis.com/kaggle-forum-message-attachments/2594/supervised_link_prediction.pdf<br>\n",
        "3. Tune hyperparameters for XG boost with all these features and check the error metric."
      ]
    },
    {
      "cell_type": "code",
      "metadata": {
        "id": "OV9x48fi498I",
        "colab_type": "code",
        "colab": {}
      },
      "source": [
        "TrPAE = 'drive/My Drive/Applied AI Course/Assignments/17. Facebook Friend Recommendation/after_eda/train_pos_after_eda.csv'\n",
        "TePAE = 'drive/My Drive/Applied AI Course/Assignments/17. Facebook Friend Recommendation/after_eda/test_pos_after_eda.csv'"
      ],
      "execution_count": 7,
      "outputs": []
    },
    {
      "cell_type": "code",
      "metadata": {
        "id": "t5zk-hWQ44BE",
        "colab_type": "code",
        "colab": {}
      },
      "source": [
        "train_graph=nx.read_edgelist(TrPAE,delimiter=',',create_using=nx.DiGraph(),nodetype=int)\n",
        "test_graph=nx.read_edgelist(TePAE,delimiter=',',create_using=nx.DiGraph(),nodetype=int)"
      ],
      "execution_count": 8,
      "outputs": []
    },
    {
      "cell_type": "markdown",
      "metadata": {
        "id": "TDXpQVjD5tzn",
        "colab_type": "text"
      },
      "source": [
        "# # Preferential Attachment feature"
      ]
    },
    {
      "cell_type": "code",
      "metadata": {
        "id": "_S1lNuYS5uZS",
        "colab_type": "code",
        "colab": {}
      },
      "source": [
        "def prefential_attachment_followers(a,b):\n",
        "     try:\n",
        "        pref_attach_wers = (len(set(train_graph.predecessors(a))*len(set(train_graph.predecessors(b)))))\n",
        "        \n",
        "     except:\n",
        "       return 0\n",
        "      \n",
        "     return pref_attach_wers"
      ],
      "execution_count": 9,
      "outputs": []
    },
    {
      "cell_type": "code",
      "metadata": {
        "id": "UVTDH9hg5yxn",
        "colab_type": "code",
        "colab": {}
      },
      "source": [
        "def prefential_attachment_followees(a,b):\n",
        "     try:\n",
        "        pref_attach_wees = (len(set(train_graph.successors(a))*len(set(train_graph.successors(b)))))\n",
        "        \n",
        "     except:\n",
        "       return 0\n",
        "      \n",
        "     return pref_attach_wees"
      ],
      "execution_count": 10,
      "outputs": []
    },
    {
      "cell_type": "code",
      "metadata": {
        "id": "cqXoaQi5523Z",
        "colab_type": "code",
        "colab": {}
      },
      "source": [
        "df_final_train['prefential_followers'] = df_final_train.apply(lambda row:prefential_attachment_followers(row['source_node'],row['destination_node']),axis=1)\n",
        "df_final_train['prefential_followees'] = df_final_train.apply(lambda row:prefential_attachment_followees(row['source_node'],row['destination_node']),axis=1)\n",
        "\n",
        "df_final_test['prefential_followers'] = df_final_test.apply(lambda row:prefential_attachment_followers(row['source_node'],row['destination_node']),axis=1)\n",
        "df_final_test['prefential_followees'] = df_final_test.apply(lambda row:prefential_attachment_followees(row['source_node'],row['destination_node']),axis=1)"
      ],
      "execution_count": 11,
      "outputs": []
    },
    {
      "cell_type": "markdown",
      "metadata": {
        "id": "BCtBgAGm5-89",
        "colab_type": "text"
      },
      "source": [
        "# #SVD Dot Feature"
      ]
    },
    {
      "cell_type": "code",
      "metadata": {
        "id": "wIBSbchs5_3y",
        "colab_type": "code",
        "colab": {}
      },
      "source": [
        "df_final_train['svd_u_dot'] = ((df_final_train['svd_u_s_1']*(df_final_train['svd_u_d_1']))+ (df_final_train['svd_u_s_2']*(df_final_train['svd_u_d_2']))+\n",
        "                                (df_final_train['svd_u_s_3']*(df_final_train['svd_u_d_3']))+ (df_final_train['svd_u_s_4']*(df_final_train['svd_u_d_4']))+\n",
        "                                (df_final_train['svd_u_s_5']*(df_final_train['svd_u_d_5']))+ (df_final_train['svd_u_s_6']*(df_final_train['svd_u_d_6'])))\n",
        "\n",
        "df_final_train['svd_v_dot'] = ((df_final_train['svd_v_s_1']*(df_final_train['svd_v_d_1']))+ (df_final_train['svd_v_s_2']*(df_final_train['svd_v_d_2']))+\n",
        "                                (df_final_train['svd_v_s_3']*(df_final_train['svd_v_d_3']))+(df_final_train['svd_v_s_4']*(df_final_train['svd_v_d_4']))+\n",
        "                                (df_final_train['svd_v_s_5']*(df_final_train['svd_v_d_5']))+(df_final_train['svd_v_s_6']*(df_final_train['svd_v_d_6'])))"
      ],
      "execution_count": 12,
      "outputs": []
    },
    {
      "cell_type": "code",
      "metadata": {
        "id": "SzO40lG36GZW",
        "colab_type": "code",
        "colab": {}
      },
      "source": [
        "df_final_test['svd_u_dot'] = ((df_final_test['svd_u_s_1']*(df_final_test['svd_u_d_1']))+ (df_final_test['svd_u_s_2']*(df_final_test['svd_u_d_2']))+\n",
        "                                (df_final_test['svd_u_s_3']*(df_final_test['svd_u_d_3']))+(df_final_test['svd_u_s_4']*(df_final_test['svd_u_d_4']))+\n",
        "                                (df_final_test['svd_u_s_5']*(df_final_test['svd_u_d_5']))+(df_final_test['svd_u_s_6']*(df_final_test['svd_u_d_6'])))\n",
        "          \n",
        "df_final_test['svd_v_dot'] = ((df_final_test['svd_v_s_1']*(df_final_test['svd_v_d_1']))+(df_final_test['svd_v_s_2']*(df_final_test['svd_v_d_2']))+\n",
        "                                (df_final_test['svd_v_s_3']*(df_final_test['svd_v_d_3']))+(df_final_test['svd_v_s_4']*(df_final_test['svd_v_d_4']))+\n",
        "                                (df_final_test['svd_v_s_5']*(df_final_test['svd_v_d_5']))+(df_final_test['svd_v_s_6']*(df_final_test['svd_v_d_6'])))"
      ],
      "execution_count": 13,
      "outputs": []
    },
    {
      "cell_type": "code",
      "metadata": {
        "id": "N0SkyrYq6PVg",
        "colab_type": "code",
        "colab": {
          "base_uri": "https://localhost:8080/",
          "height": 213
        },
        "outputId": "fbc5d88b-9990-4bcb-8ccc-196968ea731d"
      },
      "source": [
        "df_final_train.head(3)"
      ],
      "execution_count": 14,
      "outputs": [
        {
          "output_type": "execute_result",
          "data": {
            "text/html": [
              "<div>\n",
              "<style scoped>\n",
              "    .dataframe tbody tr th:only-of-type {\n",
              "        vertical-align: middle;\n",
              "    }\n",
              "\n",
              "    .dataframe tbody tr th {\n",
              "        vertical-align: top;\n",
              "    }\n",
              "\n",
              "    .dataframe thead th {\n",
              "        text-align: right;\n",
              "    }\n",
              "</style>\n",
              "<table border=\"1\" class=\"dataframe\">\n",
              "  <thead>\n",
              "    <tr style=\"text-align: right;\">\n",
              "      <th></th>\n",
              "      <th>source_node</th>\n",
              "      <th>destination_node</th>\n",
              "      <th>indicator_link</th>\n",
              "      <th>jaccard_followers</th>\n",
              "      <th>jaccard_followees</th>\n",
              "      <th>cosine_followers</th>\n",
              "      <th>cosine_followees</th>\n",
              "      <th>num_followers_s</th>\n",
              "      <th>num_followees_s</th>\n",
              "      <th>num_followees_d</th>\n",
              "      <th>inter_followers</th>\n",
              "      <th>inter_followees</th>\n",
              "      <th>adar_index</th>\n",
              "      <th>follows_back</th>\n",
              "      <th>same_comp</th>\n",
              "      <th>shortest_path</th>\n",
              "      <th>weight_in</th>\n",
              "      <th>weight_out</th>\n",
              "      <th>weight_f1</th>\n",
              "      <th>weight_f2</th>\n",
              "      <th>weight_f3</th>\n",
              "      <th>weight_f4</th>\n",
              "      <th>page_rank_s</th>\n",
              "      <th>page_rank_d</th>\n",
              "      <th>katz_s</th>\n",
              "      <th>katz_d</th>\n",
              "      <th>hubs_s</th>\n",
              "      <th>hubs_d</th>\n",
              "      <th>authorities_s</th>\n",
              "      <th>authorities_d</th>\n",
              "      <th>svd_u_s_1</th>\n",
              "      <th>svd_u_s_2</th>\n",
              "      <th>svd_u_s_3</th>\n",
              "      <th>svd_u_s_4</th>\n",
              "      <th>svd_u_s_5</th>\n",
              "      <th>svd_u_s_6</th>\n",
              "      <th>svd_u_d_1</th>\n",
              "      <th>svd_u_d_2</th>\n",
              "      <th>svd_u_d_3</th>\n",
              "      <th>svd_u_d_4</th>\n",
              "      <th>svd_u_d_5</th>\n",
              "      <th>svd_u_d_6</th>\n",
              "      <th>svd_v_s_1</th>\n",
              "      <th>svd_v_s_2</th>\n",
              "      <th>svd_v_s_3</th>\n",
              "      <th>svd_v_s_4</th>\n",
              "      <th>svd_v_s_5</th>\n",
              "      <th>svd_v_s_6</th>\n",
              "      <th>svd_v_d_1</th>\n",
              "      <th>svd_v_d_2</th>\n",
              "      <th>svd_v_d_3</th>\n",
              "      <th>svd_v_d_4</th>\n",
              "      <th>svd_v_d_5</th>\n",
              "      <th>svd_v_d_6</th>\n",
              "      <th>prefential_followers</th>\n",
              "      <th>prefential_followees</th>\n",
              "      <th>svd_u_dot</th>\n",
              "      <th>svd_v_dot</th>\n",
              "    </tr>\n",
              "  </thead>\n",
              "  <tbody>\n",
              "    <tr>\n",
              "      <th>0</th>\n",
              "      <td>273084</td>\n",
              "      <td>1505602</td>\n",
              "      <td>1</td>\n",
              "      <td>0</td>\n",
              "      <td>0.000000</td>\n",
              "      <td>0.000000</td>\n",
              "      <td>0.000000</td>\n",
              "      <td>6</td>\n",
              "      <td>15</td>\n",
              "      <td>8</td>\n",
              "      <td>0</td>\n",
              "      <td>0</td>\n",
              "      <td>0.000000</td>\n",
              "      <td>0</td>\n",
              "      <td>1</td>\n",
              "      <td>4</td>\n",
              "      <td>0.377964</td>\n",
              "      <td>0.250000</td>\n",
              "      <td>0.627964</td>\n",
              "      <td>0.094491</td>\n",
              "      <td>1.005929</td>\n",
              "      <td>0.877964</td>\n",
              "      <td>2.045290e-06</td>\n",
              "      <td>3.459963e-07</td>\n",
              "      <td>0.000773</td>\n",
              "      <td>0.000756</td>\n",
              "      <td>1.943132e-13</td>\n",
              "      <td>1.941103e-13</td>\n",
              "      <td>9.226339e-16</td>\n",
              "      <td>2.231877e-15</td>\n",
              "      <td>-1.666226e-13</td>\n",
              "      <td>4.613397e-13</td>\n",
              "      <td>1.043044e-05</td>\n",
              "      <td>6.676960e-13</td>\n",
              "      <td>2.451081e-13</td>\n",
              "      <td>3.584580e-12</td>\n",
              "      <td>-2.038017e-11</td>\n",
              "      <td>5.397495e-13</td>\n",
              "      <td>1.068946e-06</td>\n",
              "      <td>1.192357e-12</td>\n",
              "      <td>2.279485e-12</td>\n",
              "      <td>3.580837e-12</td>\n",
              "      <td>-7.216133e-13</td>\n",
              "      <td>3.925975e-13</td>\n",
              "      <td>1.983691e-06</td>\n",
              "      <td>1.545075e-13</td>\n",
              "      <td>8.108434e-13</td>\n",
              "      <td>1.719702e-14</td>\n",
              "      <td>-1.355368e-12</td>\n",
              "      <td>4.675307e-13</td>\n",
              "      <td>1.128591e-06</td>\n",
              "      <td>6.616550e-14</td>\n",
              "      <td>9.771077e-13</td>\n",
              "      <td>4.159752e-14</td>\n",
              "      <td>0</td>\n",
              "      <td>0</td>\n",
              "      <td>1.114958e-11</td>\n",
              "      <td>2.238775e-12</td>\n",
              "    </tr>\n",
              "    <tr>\n",
              "      <th>1</th>\n",
              "      <td>832016</td>\n",
              "      <td>1543415</td>\n",
              "      <td>1</td>\n",
              "      <td>0</td>\n",
              "      <td>0.187135</td>\n",
              "      <td>0.028382</td>\n",
              "      <td>0.343828</td>\n",
              "      <td>94</td>\n",
              "      <td>61</td>\n",
              "      <td>142</td>\n",
              "      <td>11</td>\n",
              "      <td>32</td>\n",
              "      <td>16.362912</td>\n",
              "      <td>0</td>\n",
              "      <td>1</td>\n",
              "      <td>2</td>\n",
              "      <td>0.102598</td>\n",
              "      <td>0.127000</td>\n",
              "      <td>0.229598</td>\n",
              "      <td>0.013030</td>\n",
              "      <td>0.332196</td>\n",
              "      <td>0.356598</td>\n",
              "      <td>2.353458e-07</td>\n",
              "      <td>6.427660e-07</td>\n",
              "      <td>0.000845</td>\n",
              "      <td>0.001317</td>\n",
              "      <td>3.906648e-11</td>\n",
              "      <td>9.424102e-11</td>\n",
              "      <td>1.208074e-11</td>\n",
              "      <td>1.273080e-10</td>\n",
              "      <td>7.051088e-13</td>\n",
              "      <td>-8.250564e-11</td>\n",
              "      <td>-1.717702e-10</td>\n",
              "      <td>3.705016e-02</td>\n",
              "      <td>1.032392e-11</td>\n",
              "      <td>7.207497e-10</td>\n",
              "      <td>1.644399e-12</td>\n",
              "      <td>-2.047752e-10</td>\n",
              "      <td>-3.943936e-10</td>\n",
              "      <td>8.617541e-02</td>\n",
              "      <td>2.399540e-11</td>\n",
              "      <td>1.738682e-09</td>\n",
              "      <td>2.685878e-13</td>\n",
              "      <td>-3.316849e-11</td>\n",
              "      <td>-6.236048e-11</td>\n",
              "      <td>1.345726e-02</td>\n",
              "      <td>3.703479e-12</td>\n",
              "      <td>2.251737e-10</td>\n",
              "      <td>1.245101e-12</td>\n",
              "      <td>-1.636948e-10</td>\n",
              "      <td>-3.112650e-10</td>\n",
              "      <td>6.738902e-02</td>\n",
              "      <td>2.607801e-11</td>\n",
              "      <td>2.372904e-09</td>\n",
              "      <td>0</td>\n",
              "      <td>0</td>\n",
              "      <td>3.192812e-03</td>\n",
              "      <td>9.068719e-04</td>\n",
              "    </tr>\n",
              "    <tr>\n",
              "      <th>2</th>\n",
              "      <td>1325247</td>\n",
              "      <td>760242</td>\n",
              "      <td>1</td>\n",
              "      <td>0</td>\n",
              "      <td>0.369565</td>\n",
              "      <td>0.156957</td>\n",
              "      <td>0.566038</td>\n",
              "      <td>28</td>\n",
              "      <td>41</td>\n",
              "      <td>22</td>\n",
              "      <td>26</td>\n",
              "      <td>17</td>\n",
              "      <td>10.991826</td>\n",
              "      <td>0</td>\n",
              "      <td>1</td>\n",
              "      <td>2</td>\n",
              "      <td>0.185695</td>\n",
              "      <td>0.154303</td>\n",
              "      <td>0.339999</td>\n",
              "      <td>0.028653</td>\n",
              "      <td>0.525694</td>\n",
              "      <td>0.494302</td>\n",
              "      <td>6.211019e-07</td>\n",
              "      <td>5.179801e-07</td>\n",
              "      <td>0.000885</td>\n",
              "      <td>0.000855</td>\n",
              "      <td>7.730764e-114</td>\n",
              "      <td>4.067322e-114</td>\n",
              "      <td>2.681298e-113</td>\n",
              "      <td>2.199205e-113</td>\n",
              "      <td>-4.900734e-18</td>\n",
              "      <td>1.096831e-18</td>\n",
              "      <td>-6.816555e-19</td>\n",
              "      <td>-2.226453e-18</td>\n",
              "      <td>6.710556e-19</td>\n",
              "      <td>-8.161336e-19</td>\n",
              "      <td>-2.606312e-18</td>\n",
              "      <td>6.392474e-19</td>\n",
              "      <td>-4.245830e-19</td>\n",
              "      <td>-1.315747e-18</td>\n",
              "      <td>3.849627e-19</td>\n",
              "      <td>-1.131971e-18</td>\n",
              "      <td>-1.510265e-18</td>\n",
              "      <td>1.454979e-19</td>\n",
              "      <td>-2.380564e-19</td>\n",
              "      <td>-7.021227e-19</td>\n",
              "      <td>1.940403e-19</td>\n",
              "      <td>-3.365389e-19</td>\n",
              "      <td>-1.238370e-18</td>\n",
              "      <td>1.438175e-19</td>\n",
              "      <td>-1.852863e-19</td>\n",
              "      <td>-5.901864e-19</td>\n",
              "      <td>1.629341e-19</td>\n",
              "      <td>-2.572452e-19</td>\n",
              "      <td>0</td>\n",
              "      <td>0</td>\n",
              "      <td>1.787503e-35</td>\n",
              "      <td>2.467873e-36</td>\n",
              "    </tr>\n",
              "  </tbody>\n",
              "</table>\n",
              "</div>"
            ],
            "text/plain": [
              "   source_node  destination_node  ...     svd_u_dot     svd_v_dot\n",
              "0       273084           1505602  ...  1.114958e-11  2.238775e-12\n",
              "1       832016           1543415  ...  3.192812e-03  9.068719e-04\n",
              "2      1325247            760242  ...  1.787503e-35  2.467873e-36\n",
              "\n",
              "[3 rows x 58 columns]"
            ]
          },
          "metadata": {
            "tags": []
          },
          "execution_count": 14
        }
      ]
    },
    {
      "cell_type": "code",
      "metadata": {
        "id": "H4mEcxfv6SFg",
        "colab_type": "code",
        "colab": {}
      },
      "source": [
        "y_train = df_final_train.indicator_link\n",
        "y_test = df_final_test.indicator_link"
      ],
      "execution_count": 16,
      "outputs": []
    },
    {
      "cell_type": "code",
      "metadata": {
        "id": "bHerT_wk6V4i",
        "colab_type": "code",
        "colab": {}
      },
      "source": [
        "df_final_train.drop(['source_node', 'destination_node','indicator_link'],axis=1,inplace=True)\n",
        "df_final_test.drop(['source_node', 'destination_node','indicator_link'],axis=1,inplace=True)"
      ],
      "execution_count": 17,
      "outputs": []
    },
    {
      "cell_type": "markdown",
      "metadata": {
        "id": "hB87Rhyy6aL2",
        "colab_type": "text"
      },
      "source": [
        "# Applying XG Boost Model"
      ]
    },
    {
      "cell_type": "code",
      "metadata": {
        "id": "OxnyBXu66Z6q",
        "colab_type": "code",
        "colab": {}
      },
      "source": [
        "from xgboost import XGBClassifier\n",
        "import xgboost as xgb"
      ],
      "execution_count": 18,
      "outputs": []
    },
    {
      "cell_type": "code",
      "metadata": {
        "id": "WhfNM0zE6ftt",
        "colab_type": "code",
        "colab": {
          "base_uri": "https://localhost:8080/",
          "height": 364
        },
        "outputId": "a5f90c2f-5c26-4362-bc8d-053d1f0a5d89"
      },
      "source": [
        "from sklearn.metrics import f1_score\n",
        "from sklearn.model_selection import GridSearchCV\n",
        "\n",
        "\n",
        "prams= {'max_depth' : [2, 5, 8, 10],\"n_estimators\":[1,5,10,20,40,60,80]}\n",
        "\n",
        "clf = xgb.XGBClassifier()\n",
        "\n",
        "random_clf = GridSearchCV(clf, param_grid=prams, scoring='f1', verbose = 1, return_train_score=True, n_jobs=-1)\n",
        "\n",
        "random_clf.fit(df_final_train,y_train)"
      ],
      "execution_count": 19,
      "outputs": [
        {
          "output_type": "stream",
          "text": [
            "Fitting 5 folds for each of 28 candidates, totalling 140 fits\n"
          ],
          "name": "stdout"
        },
        {
          "output_type": "stream",
          "text": [
            "[Parallel(n_jobs=-1)]: Using backend LokyBackend with 2 concurrent workers.\n",
            "[Parallel(n_jobs=-1)]: Done  46 tasks      | elapsed:  3.1min\n",
            "[Parallel(n_jobs=-1)]: Done 140 out of 140 | elapsed: 27.1min finished\n"
          ],
          "name": "stderr"
        },
        {
          "output_type": "execute_result",
          "data": {
            "text/plain": [
              "GridSearchCV(cv=None, error_score=nan,\n",
              "             estimator=XGBClassifier(base_score=0.5, booster='gbtree',\n",
              "                                     colsample_bylevel=1, colsample_bynode=1,\n",
              "                                     colsample_bytree=1, gamma=0,\n",
              "                                     learning_rate=0.1, max_delta_step=0,\n",
              "                                     max_depth=3, min_child_weight=1,\n",
              "                                     missing=None, n_estimators=100, n_jobs=1,\n",
              "                                     nthread=None, objective='binary:logistic',\n",
              "                                     random_state=0, reg_alpha=0, reg_lambda=1,\n",
              "                                     scale_pos_weight=1, seed=None, silent=None,\n",
              "                                     subsample=1, verbosity=1),\n",
              "             iid='deprecated', n_jobs=-1,\n",
              "             param_grid={'max_depth': [2, 5, 8, 10],\n",
              "                         'n_estimators': [1, 5, 10, 20, 40, 60, 80]},\n",
              "             pre_dispatch='2*n_jobs', refit=True, return_train_score=True,\n",
              "             scoring='f1', verbose=1)"
            ]
          },
          "metadata": {
            "tags": []
          },
          "execution_count": 19
        }
      ]
    },
    {
      "cell_type": "code",
      "metadata": {
        "id": "6JMnK1NZBqVJ",
        "colab_type": "code",
        "colab": {
          "base_uri": "https://localhost:8080/",
          "height": 191
        },
        "outputId": "5515f544-fdd8-40b1-ef7a-3b98aea14dd3"
      },
      "source": [
        "train_error = random_clf.cv_results_['mean_train_score']\n",
        "cv_error = random_clf.cv_results_['mean_test_score']\n",
        "\n",
        "print('mean test scores',cv_error)\n",
        "print('mean train scores',train_error)"
      ],
      "execution_count": 20,
      "outputs": [
        {
          "output_type": "stream",
          "text": [
            "mean test scores [0.86579717 0.90193607 0.91811273 0.91873231 0.92641429 0.95727155\n",
            " 0.95924608 0.92599921 0.92803453 0.92920689 0.95860383 0.96898494\n",
            " 0.97288482 0.97390166 0.96740816 0.97040815 0.97083387 0.97279651\n",
            " 0.97457706 0.97543502 0.97681715 0.97158349 0.97288272 0.97372735\n",
            " 0.9748116  0.97627805 0.97724216 0.97822007]\n",
            "mean train scores [0.86579935 0.90303839 0.91769561 0.91905475 0.92661117 0.95759137\n",
            " 0.95936905 0.92603748 0.92804988 0.92917881 0.95905433 0.96917925\n",
            " 0.97345609 0.97479226 0.9683495  0.97170712 0.97236311 0.97455881\n",
            " 0.97658468 0.97792239 0.98107868 0.97494432 0.9764554  0.97787061\n",
            " 0.97966229 0.98181713 0.98397888 0.98700937]\n"
          ],
          "name": "stdout"
        }
      ]
    },
    {
      "cell_type": "code",
      "metadata": {
        "id": "DrEN7b8QBxuv",
        "colab_type": "code",
        "colab": {
          "base_uri": "https://localhost:8080/",
          "height": 139
        },
        "outputId": "a4b783fc-a625-4a29-949b-6b4955ae0c4f"
      },
      "source": [
        "print (random_clf.best_estimator_)"
      ],
      "execution_count": 21,
      "outputs": [
        {
          "output_type": "stream",
          "text": [
            "XGBClassifier(base_score=0.5, booster='gbtree', colsample_bylevel=1,\n",
            "              colsample_bynode=1, colsample_bytree=1, gamma=0,\n",
            "              learning_rate=0.1, max_delta_step=0, max_depth=10,\n",
            "              min_child_weight=1, missing=None, n_estimators=80, n_jobs=1,\n",
            "              nthread=None, objective='binary:logistic', random_state=0,\n",
            "              reg_alpha=0, reg_lambda=1, scale_pos_weight=1, seed=None,\n",
            "              silent=None, subsample=1, verbosity=1)\n"
          ],
          "name": "stdout"
        }
      ]
    },
    {
      "cell_type": "code",
      "metadata": {
        "id": "5BBvoHorB3Ng",
        "colab_type": "code",
        "colab": {
          "base_uri": "https://localhost:8080/",
          "height": 35
        },
        "outputId": "1a089ada-c0eb-4650-fed9-de9efc3b692d"
      },
      "source": [
        "print (random_clf.best_params_)"
      ],
      "execution_count": 24,
      "outputs": [
        {
          "output_type": "stream",
          "text": [
            "{'max_depth': 10, 'n_estimators': 80}\n"
          ],
          "name": "stdout"
        }
      ]
    },
    {
      "cell_type": "code",
      "metadata": {
        "id": "UCqLUsLgB-hn",
        "colab_type": "code",
        "colab": {}
      },
      "source": [
        "## Running with best params\n",
        "best_clf=xgb.XGBClassifier(base_score=0.5, booster='gbtree', colsample_bylevel=1,\n",
        "              colsample_bynode=1, colsample_bytree=1, gamma=0,\n",
        "              learning_rate=0.1, max_delta_step=0, max_depth=10,\n",
        "              min_child_weight=1, missing=None, n_estimators=80, n_jobs=1,\n",
        "              nthread=None, objective='binary:logistic', random_state=0,\n",
        "              reg_alpha=0, reg_lambda=1, scale_pos_weight=1, seed=None,\n",
        "              silent=None, subsample=1, verbosity=1)"
      ],
      "execution_count": 25,
      "outputs": []
    },
    {
      "cell_type": "code",
      "metadata": {
        "id": "o7BQz0huCKqA",
        "colab_type": "code",
        "colab": {
          "base_uri": "https://localhost:8080/",
          "height": 300
        },
        "outputId": "31e8eae0-9855-4b34-d626-e441e8b93dd1"
      },
      "source": [
        "best_clf.fit(df_final_train,y_train)\n",
        "y_train_pred = best_clf.predict(df_final_train)\n",
        "y_test_pred = best_clf.predict(df_final_test)\n",
        "\n",
        "plt.plot(cv_error, label='Cross Validation Error')\n",
        "plt.plot(train_error, label='Training Error')\n",
        "plt.legend()\n",
        "plt.show()\n",
        "\n",
        "from sklearn.metrics import f1_score\n",
        "print('Train f1 score',f1_score(y_train,y_train_pred))\n",
        "print('Test f1 score',f1_score(y_test,y_test_pred))"
      ],
      "execution_count": 26,
      "outputs": [
        {
          "output_type": "display_data",
          "data": {
            "image/png": "[encoded data removed]",
            "text/plain": [
              "<Figure size 432x288 with 1 Axes>"
            ]
          },
          "metadata": {
            "tags": [],
            "needs_background": "light"
          }
        },
        {
          "output_type": "stream",
          "text": [
            "Train f1 score 0.9854882727922738\n",
            "Test f1 score 0.9281200966880115\n"
          ],
          "name": "stdout"
        }
      ]
    },
    {
      "cell_type": "code",
      "metadata": {
        "id": "OLHdyBVfCngJ",
        "colab_type": "code",
        "colab": {
          "base_uri": "https://localhost:8080/",
          "height": 608
        },
        "outputId": "91ce6562-ebbd-4540-e3ac-e95a1c3dea6b"
      },
      "source": [
        "print('Train confusion_matrix')\n",
        "plot_confusion_matrix(y_train,y_train_pred)\n",
        "print('Test confusion_matrix')\n",
        "plot_confusion_matrix(y_test,y_test_pred)\n"
      ],
      "execution_count": 27,
      "outputs": [
        {
          "output_type": "stream",
          "text": [
            "Train confusion_matrix\n"
          ],
          "name": "stdout"
        },
        {
          "output_type": "display_data",
          "data": {
            "image/png": "[encoded data removed]",
            "text/plain": [
              "<Figure size 1440x288 with 6 Axes>"
            ]
          },
          "metadata": {
            "tags": [],
            "needs_background": "light"
          }
        },
        {
          "output_type": "stream",
          "text": [
            "Test confusion_matrix\n"
          ],
          "name": "stdout"
        },
        {
          "output_type": "display_data",
          "data": {
            "image/png": "[encoded data removed]",
            "text/plain": [
              "<Figure size 1440x288 with 6 Axes>"
            ]
          },
          "metadata": {
            "tags": [],
            "needs_background": "light"
          }
        }
      ]
    },
    {
      "cell_type": "code",
      "metadata": {
        "id": "LSX5Le__Ctqw",
        "colab_type": "code",
        "colab": {
          "base_uri": "https://localhost:8080/",
          "height": 295
        },
        "outputId": "ffceecd6-dcb3-49cf-f648-607afd65b148"
      },
      "source": [
        "from sklearn.metrics import roc_curve, auc\n",
        "fpr,tpr,ths = roc_curve(y_test,y_test_pred)\n",
        "auc_sc = auc(fpr, tpr)\n",
        "plt.plot(fpr, tpr, color='navy',label='ROC curve (area = %0.2f)' % auc_sc)\n",
        "plt.xlabel('False Positive Rate')\n",
        "plt.ylabel('True Positive Rate')\n",
        "plt.title('Receiver operating characteristic with test data')\n",
        "plt.legend()\n",
        "plt.show()"
      ],
      "execution_count": 28,
      "outputs": [
        {
          "output_type": "display_data",
          "data": {
            "image/png": "[encoded data removed]",
            "text/plain": [
              "<Figure size 432x288 with 1 Axes>"
            ]
          },
          "metadata": {
            "tags": [],
            "needs_background": "light"
          }
        }
      ]
    },
    {
      "cell_type": "code",
      "metadata": {
        "id": "5yu9JmWgC5Q7",
        "colab_type": "code",
        "colab": {
          "base_uri": "https://localhost:8080/",
          "height": 730
        },
        "outputId": "6b30cb9a-0469-43e5-d05b-5eea793b9e98"
      },
      "source": [
        "features = df_final_train.columns\n",
        "importances = best_clf.feature_importances_\n",
        "indices = (np.argsort(importances))[-30:]\n",
        "plt.figure(figsize=(10,12))\n",
        "plt.title('Feature Importances')\n",
        "plt.barh(range(len(indices)), importances[indices], color='orange', align='center')\n",
        "plt.yticks(range(len(indices)), [features[i] for i in indices])\n",
        "plt.xlabel('Relative Importance')\n",
        "plt.show()"
      ],
      "execution_count": 30,
      "outputs": [
        {
          "output_type": "display_data",
          "data": {
            "image/png": "[encoded data removed]",
            "text/plain": [
              "<Figure size 720x864 with 1 Axes>"
            ]
          },
          "metadata": {
            "tags": [],
            "needs_background": "light"
          }
        }
      ]
    },
    {
      "cell_type": "markdown",
      "metadata": {
        "id": "czPKDaPIDplF",
        "colab_type": "text"
      },
      "source": [
        "# Conclusion"
      ]
    },
    {
      "cell_type": "markdown",
      "metadata": {
        "id": "L3ACZprDDrVI",
        "colab_type": "text"
      },
      "source": [
        "1. Added Preferential Attachment feature to the dataset\n",
        "2. Added SVD Dot feature to the dataset\n",
        "3. Trained XgBoost with hyperparameter tuning\n",
        "4. Train f1 score is  0.9854882727922738 and Test f1 score is 0.9281200966880115\n",
        "5. Follows_back and cosine followers are best feature from the above feature importance graph.\n",
        "6. Area under ROC curve on test data is 0.93\n"
      ]
    },
    {
      "cell_type": "code",
      "metadata": {
        "id": "2zeekghfENYe",
        "colab_type": "code",
        "colab": {
          "base_uri": "https://localhost:8080/",
          "height": 104
        },
        "outputId": "005b63c6-33c5-4e83-adcb-3b0a4c4fa21b"
      },
      "source": [
        "from prettytable import PrettyTable\n",
        "x = PrettyTable()\n",
        "x.field_names = [\"Model\", \"Train F1 Score\", \"Test F1 Score\"]\n",
        "x.add_row([\"XGBoost with hyperparameter\", 0.985488 , 0.928120\n",
        "])\n",
        "print(x)\n"
      ],
      "execution_count": 31,
      "outputs": [
        {
          "output_type": "stream",
          "text": [
            "+-----------------------------+----------------+---------------+\n",
            "|            Model            | Train F1 Score | Test F1 Score |\n",
            "+-----------------------------+----------------+---------------+\n",
            "| XGBoost with hyperparameter |    0.985488    |    0.92812    |\n",
            "+-----------------------------+----------------+---------------+\n"
          ],
          "name": "stdout"
        }
      ]
    }
  ]
}