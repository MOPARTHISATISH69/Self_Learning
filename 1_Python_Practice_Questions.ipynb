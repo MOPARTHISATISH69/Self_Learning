{
  "nbformat": 4,
  "nbformat_minor": 0,
  "metadata": {
    "kernelspec": {
      "name": "python36",
      "display_name": "Python 3.6",
      "language": "python"
    },
    "language_info": {
      "mimetype": "text/x-python",
      "nbconvert_exporter": "python",
      "name": "python",
      "pygments_lexer": "ipython3",
      "version": "3.6.6",
      "file_extension": ".py",
      "codemirror_mode": {
        "version": 3,
        "name": "ipython"
      }
    },
    "colab": {
      "name": "Python Practice Questions.ipynb",
      "provenance": []
    }
  },
  "cells": [
    {
      "cell_type": "markdown",
      "metadata": {
        "collapsed": true,
        "id": "kLxTF9_W-xWP",
        "colab_type": "text"
      },
      "source": [
        "**1. Write a function that inputs a number and prints the multiplication table of that number **"
      ]
    },
    {
      "cell_type": "code",
      "metadata": {
        "trusted": true,
        "id": "Scixm1VQ-xWQ",
        "colab_type": "code",
        "colab": {}
      },
      "source": [
        "def multiplication(n):\n",
        "    try:\n",
        "        if n>0:\n",
        "            for i in range(0,11):\n",
        "                print(n,'*',i,'=',i*n)\n",
        "        else:\n",
        "            print(\"Enter a positive integer\")\n",
        "    except:\n",
        "        print(\"Enter an interger / Digit\") "
      ],
      "execution_count": 0,
      "outputs": []
    },
    {
      "cell_type": "code",
      "metadata": {
        "trusted": true,
        "id": "jkHKASIb-xWY",
        "colab_type": "code",
        "outputId": "556045aa-8f91-4055-88a3-d1ecfbfa2912",
        "colab": {}
      },
      "source": [
        "multiplication('s')"
      ],
      "execution_count": 0,
      "outputs": [
        {
          "output_type": "stream",
          "text": [
            "Enter an interger / Digit\n"
          ],
          "name": "stdout"
        }
      ]
    },
    {
      "cell_type": "code",
      "metadata": {
        "trusted": true,
        "id": "4IddvaGX-xWe",
        "colab_type": "code",
        "outputId": "fdea4844-527c-45bb-c2cd-704c38ec9f76",
        "colab": {}
      },
      "source": [
        "multiplication(-8)"
      ],
      "execution_count": 0,
      "outputs": [
        {
          "output_type": "stream",
          "text": [
            "Enter a positive integer\n"
          ],
          "name": "stdout"
        }
      ]
    },
    {
      "cell_type": "code",
      "metadata": {
        "trusted": true,
        "id": "0w72uxUy-xWj",
        "colab_type": "code",
        "outputId": "894507f7-f51b-4b4c-8ea2-04a7f3a320a5",
        "colab": {}
      },
      "source": [
        "multiplication(3)"
      ],
      "execution_count": 0,
      "outputs": [
        {
          "output_type": "stream",
          "text": [
            "3 * 0 = 0\n",
            "3 * 1 = 3\n",
            "3 * 2 = 6\n",
            "3 * 3 = 9\n",
            "3 * 4 = 12\n",
            "3 * 5 = 15\n",
            "3 * 6 = 18\n",
            "3 * 7 = 21\n",
            "3 * 8 = 24\n",
            "3 * 9 = 27\n",
            "3 * 10 = 30\n"
          ],
          "name": "stdout"
        }
      ]
    },
    {
      "cell_type": "markdown",
      "metadata": {
        "id": "7fxSCBVL-xWr",
        "colab_type": "text"
      },
      "source": [
        "**2. Write a program to print twin primes  less than 1000. If two consecutive odd numbers are both prime then they are known as twin primes**"
      ]
    },
    {
      "cell_type": "markdown",
      "metadata": {
        "id": "N7llmpEj-xWs",
        "colab_type": "text"
      },
      "source": [
        "Source : https://www.geeksforgeeks.org/twin-prime-numbers-between-1-and-n/"
      ]
    },
    {
      "cell_type": "code",
      "metadata": {
        "trusted": true,
        "id": "m-kQ2DEL-xWt",
        "colab_type": "code",
        "colab": {}
      },
      "source": [
        "def TwinPrimes(n):\n",
        "    prime = [True for i in range(n + 2)] \n",
        "    p = 2\n",
        "      \n",
        "    while (p * p <= n + 1): \n",
        "          \n",
        "        # If prime[p] is not changed,  \n",
        "        # then it is a prime \n",
        "        if (prime[p] == True): \n",
        "              \n",
        "            # Update all multiples of p \n",
        "            for i in range(p * 2, n + 2, p): \n",
        "                prime[i] = False\n",
        "        p += 1\n",
        "      \n",
        "    # check twin prime numbers \n",
        "    # display the twin prime numbers \n",
        "    for p in range(2, n-1): \n",
        "        if prime[p] and prime[p + 2]: \n",
        "            print(\"(\",p,\",\", (p + 2), \")\" ,end='') "
      ],
      "execution_count": 0,
      "outputs": []
    },
    {
      "cell_type": "code",
      "metadata": {
        "trusted": true,
        "id": "9KKsWuEk-xWy",
        "colab_type": "code",
        "outputId": "cf371892-2daf-46ee-bfb9-bb2b9e24a8b0",
        "colab": {}
      },
      "source": [
        "TwinPrimes(1000) "
      ],
      "execution_count": 0,
      "outputs": [
        {
          "output_type": "stream",
          "text": [
            "( 3 , 5 )( 5 , 7 )( 11 , 13 )( 17 , 19 )( 29 , 31 )( 41 , 43 )( 59 , 61 )( 71 , 73 )( 101 , 103 )( 107 , 109 )( 137 , 139 )( 149 , 151 )( 179 , 181 )( 191 , 193 )( 197 , 199 )( 227 , 229 )( 239 , 241 )( 269 , 271 )( 281 , 283 )( 311 , 313 )( 347 , 349 )( 419 , 421 )( 431 , 433 )( 461 , 463 )( 521 , 523 )( 569 , 571 )( 599 , 601 )( 617 , 619 )( 641 , 643 )( 659 , 661 )( 809 , 811 )( 821 , 823 )( 827 , 829 )( 857 , 859 )( 881 , 883 )"
          ],
          "name": "stdout"
        }
      ]
    },
    {
      "cell_type": "markdown",
      "metadata": {
        "id": "gN60jSag-xW4",
        "colab_type": "text"
      },
      "source": [
        "**3. Write a program to find out the prime factors of a number. Example: prime factors of 56 - 2, 2, 2, 7**"
      ]
    },
    {
      "cell_type": "code",
      "metadata": {
        "trusted": true,
        "id": "Ytv2jL-J-xW5",
        "colab_type": "code",
        "outputId": "154e225e-991c-43ea-df31-64605a03b9b9",
        "colab": {}
      },
      "source": [
        "## RandomNumber = int(input(\" Please Enter any Number: \"))\n",
        "RandomNumber = 56\n",
        "\n",
        "for i in range(2, RandomNumber + 1):\n",
        "    if(RandomNumber % i == 0):\n",
        "        isprime = 1\n",
        "        for j in range(2, (i //2 + 1)):\n",
        "            if(i % j == 0):\n",
        "                isprime = 0\n",
        "               # break\n",
        "            \n",
        "        if (isprime == 1):\n",
        "            print(\" %d is a Prime Factor of a Given Number %d\" %(i, RandomNumber))"
      ],
      "execution_count": 0,
      "outputs": [
        {
          "output_type": "stream",
          "text": [
            " 2 is a Prime Factor of a Given Number 56\n",
            " 7 is a Prime Factor of a Given Number 56\n"
          ],
          "name": "stdout"
        }
      ]
    },
    {
      "cell_type": "markdown",
      "metadata": {
        "id": "FkBNFzeB-xW_",
        "colab_type": "text"
      },
      "source": [
        "**4. Write a program to implement these formulae of permutations and combinations. Number of permutations of n objects taken r at a time: p(n, r) = n! / (n-r)!.  Number of combinations of n objects taken r at a time is: c(n, r) = n! / (r!*(n-r)!) = p(n,r) / r!**"
      ]
    },
    {
      "cell_type": "markdown",
      "metadata": {
        "id": "GtkM8nbwBPBK",
        "colab_type": "text"
      },
      "source": [
        "I tried writing code for permutations and combinations but fialed at many stages. But definelty i will it one day. As it is optional assignment i wrote with inbuilt fucntiuons"
      ]
    },
    {
      "cell_type": "code",
      "metadata": {
        "id": "O2S_OLfiBYa7",
        "colab_type": "code",
        "outputId": "a5800aa9-c454-4149-b1a6-0f4241906f53",
        "colab": {
          "base_uri": "https://localhost:8080/",
          "height": 364
        }
      },
      "source": [
        "## Combinations\n",
        "from itertools import combinations \n",
        "  \n",
        "# Get all combinations of [1, 2, 3] \n",
        "# and length 2 \n",
        "String_comb = combinations(['s','a','t','i','s','h'], 3) \n",
        "  \n",
        "# Print the obtained combinations \n",
        "for char in list(String_comb): \n",
        "    print(char) "
      ],
      "execution_count": 0,
      "outputs": [
        {
          "output_type": "stream",
          "text": [
            "('s', 'a', 't')\n",
            "('s', 'a', 'i')\n",
            "('s', 'a', 's')\n",
            "('s', 'a', 'h')\n",
            "('s', 't', 'i')\n",
            "('s', 't', 's')\n",
            "('s', 't', 'h')\n",
            "('s', 'i', 's')\n",
            "('s', 'i', 'h')\n",
            "('s', 's', 'h')\n",
            "('a', 't', 'i')\n",
            "('a', 't', 's')\n",
            "('a', 't', 'h')\n",
            "('a', 'i', 's')\n",
            "('a', 'i', 'h')\n",
            "('a', 's', 'h')\n",
            "('t', 'i', 's')\n",
            "('t', 'i', 'h')\n",
            "('t', 's', 'h')\n",
            "('i', 's', 'h')\n"
          ],
          "name": "stdout"
        }
      ]
    },
    {
      "cell_type": "code",
      "metadata": {
        "id": "-XugA861BvaX",
        "colab_type": "code",
        "outputId": "e24d0261-fc88-4a58-8e01-e4b88096f73b",
        "colab": {
          "base_uri": "https://localhost:8080/",
          "height": 121
        }
      },
      "source": [
        "# permutations of given length \n",
        "from itertools import permutations \n",
        "  \n",
        "# Get all permutations of length 2 \n",
        "# and length 2 \n",
        "realNumber_perm = permutations([1, 2, 3], 2) \n",
        "  \n",
        "# Print the obtained permutations \n",
        "for number in list(realNumber_perm): \n",
        "    print(number)"
      ],
      "execution_count": 0,
      "outputs": [
        {
          "output_type": "stream",
          "text": [
            "(1, 2)\n",
            "(1, 3)\n",
            "(2, 1)\n",
            "(2, 3)\n",
            "(3, 1)\n",
            "(3, 2)\n"
          ],
          "name": "stdout"
        }
      ]
    },
    {
      "cell_type": "markdown",
      "metadata": {
        "id": "JM7K8uSN-xXA",
        "colab_type": "text"
      },
      "source": [
        "**5. Write a function that converts a decimal number to binary number**"
      ]
    },
    {
      "cell_type": "code",
      "metadata": {
        "trusted": true,
        "id": "WxwJp07G-xXA",
        "colab_type": "code",
        "colab": {}
      },
      "source": [
        "# function to convert \n",
        "# decimal to binary \n",
        "def decToBinary(n):\n",
        "    try:\n",
        "        if n<0:\n",
        "            print(\"Enter a positive number\")\n",
        "        binaryNum = [0]*n                          # An list with n number of zeros'. \n",
        "        i = 0;  \n",
        "        while(n > 0):\n",
        "            binaryNum[i] = n % 2;                # storing remainder into array  \n",
        "            n = int(n / 2);                      # Dividing number by 2 and converting into int. \n",
        "            i += 1;                               # Increasing the i by 1\n",
        "            for j in range(i - 1, -1, -1):        # array in reverse order.\n",
        "                print(binaryNum[j], end = \"\");     # Counter for binary array \n",
        "    except:\n",
        "        print(\"Enter the digit/positive number instaed of alphabet\")"
      ],
      "execution_count": 0,
      "outputs": []
    },
    {
      "cell_type": "code",
      "metadata": {
        "trusted": true,
        "id": "X-hFafeM-xXE",
        "colab_type": "code",
        "outputId": "b47ec200-5098-4555-a79b-3cae8f7d0b8f",
        "colab": {}
      },
      "source": [
        "decToBinary(100);"
      ],
      "execution_count": 0,
      "outputs": [
        {
          "output_type": "stream",
          "text": [
            "0001000100001001001001100100"
          ],
          "name": "stdout"
        }
      ]
    },
    {
      "cell_type": "markdown",
      "metadata": {
        "id": "DLoTwOcr-xXI",
        "colab_type": "text"
      },
      "source": [
        "**6. Write a function cubesum() that accepts an integer and returns the sum of the cubes of individual digits of that number. Use this function to make functions PrintArmstrong() and isArmstrong() to print Armstrong numbers and to find whether is an Armstrong number.**"
      ]
    },
    {
      "cell_type": "code",
      "metadata": {
        "trusted": true,
        "id": "XhOJBaLQ-xXJ",
        "colab_type": "code",
        "colab": {}
      },
      "source": [
        "def cubeSum(realNumber):\n",
        "    sum = 0  \n",
        "    tempNumber = realNumber\n",
        "    while tempNumber >0:\n",
        "        digit = tempNumber % 10       # Extract remainder or last digit from provided number.\n",
        "        sum += digit **3              # power of 3 ( Multiplying 3 times)\n",
        "        tempNumber //= 10           # the floor division // rounds the result down to the nearest whole number\n",
        "    return sum\n",
        "\n",
        "def isArmstrong(sum):\n",
        "    if realNumber == sum:\n",
        "        \n",
        "    else:\n",
        "        print(realNumber,\"is not an Armstrong number\")\n",
        "\n",
        "\n",
        "def PrintArmstrong():\n",
        "    print(realNumber,\"is an Armstrong number\")\n",
        "    \n",
        "## Tried but failed to genearte out put with fucntions."
      ],
      "execution_count": 0,
      "outputs": []
    },
    {
      "cell_type": "code",
      "metadata": {
        "trusted": true,
        "id": "ufemMtJn-xXN",
        "colab_type": "code",
        "colab": {}
      },
      "source": [
        "def cubeSum(realNumber):\n",
        "    sum = 0  \n",
        "    tempNumber = realNumber\n",
        "    while tempNumber >0:\n",
        "        digit = tempNumber % 10       # Extract remainder or last digit from provided number.\n",
        "        sum += digit **3              # power of 3 ( Multiplying 3 times)\n",
        "        tempNumber //= 10           # the floor division // rounds the result down to the nearest whole number\n",
        "    if realNumber == sum:\n",
        "        print(realNumber,\"is an Armstrong number\")\n",
        "    else:\n",
        "        print(realNumber,\"is not an Armstrong number\")"
      ],
      "execution_count": 0,
      "outputs": []
    },
    {
      "cell_type": "code",
      "metadata": {
        "trusted": true,
        "id": "A3sKfCe0-xXR",
        "colab_type": "code",
        "outputId": "20453160-6aac-40c7-ae2e-5913deb4b6ab",
        "colab": {}
      },
      "source": [
        "cubeSum(153)"
      ],
      "execution_count": 0,
      "outputs": [
        {
          "output_type": "stream",
          "text": [
            "153 is an Armstrong number\n"
          ],
          "name": "stdout"
        }
      ]
    },
    {
      "cell_type": "code",
      "metadata": {
        "trusted": true,
        "id": "cm9w8zvQ-xXW",
        "colab_type": "code",
        "outputId": "0f9f9646-dfcd-4494-c93c-d236e0f976a2",
        "colab": {}
      },
      "source": [
        "cubeSum(371)"
      ],
      "execution_count": 0,
      "outputs": [
        {
          "output_type": "stream",
          "text": [
            "371 is an Armstrong number\n"
          ],
          "name": "stdout"
        }
      ]
    },
    {
      "cell_type": "code",
      "metadata": {
        "trusted": true,
        "id": "AAH3MaHB-xXa",
        "colab_type": "code",
        "outputId": "e3dc41ee-c586-4415-8974-89ea585cb6c0",
        "colab": {}
      },
      "source": [
        "cubeSum(123)"
      ],
      "execution_count": 0,
      "outputs": [
        {
          "output_type": "stream",
          "text": [
            "123 is not an Armstrong number\n"
          ],
          "name": "stdout"
        }
      ]
    },
    {
      "cell_type": "markdown",
      "metadata": {
        "id": "Xyllc4Du-xXe",
        "colab_type": "text"
      },
      "source": [
        "**7. Write a function prodDigits() that inputs a number and returns the product of digits of that number**"
      ]
    },
    {
      "cell_type": "code",
      "metadata": {
        "trusted": true,
        "id": "V-qfue9x-xXe",
        "colab_type": "code",
        "outputId": "c26ce29a-be08-4105-af96-70f46aff65cc",
        "colab": {}
      },
      "source": [
        "#Function to get product of digits  \n",
        "def getProduct(n): \n",
        "  \n",
        "    product = 1\n",
        "  \n",
        "    while (n != 0): \n",
        "        product = product * (n % 10) \n",
        "        n = n // 10\n",
        "  \n",
        "    return product \n",
        "  \n",
        "getProduct(321)"
      ],
      "execution_count": 0,
      "outputs": [
        {
          "output_type": "execute_result",
          "data": {
            "text/plain": [
              "6"
            ]
          },
          "metadata": {
            "tags": []
          },
          "execution_count": 14
        }
      ]
    },
    {
      "cell_type": "markdown",
      "metadata": {
        "id": "L8IR-77U-xXp",
        "colab_type": "text"
      },
      "source": [
        "**8. If all digits of a number n are multiplied by each other repeating with the product, the one digit number obtained at last is called the multiplicative digital root of n. The number of times digits need to be multiplied to reach one digit is called the multiplicative persistance of n. Example: 86 -> 48 -> 32 -> 6 (MDR 6, MPersistence 3)               341 -> 12->2           (MDR 2, MPersistence 2) Using the function prodDigits() of previous exercise write functions MDR() and MPersistence() that input a number and return its multiplicative digital root and multiplicative persistence respectively**"
      ]
    },
    {
      "cell_type": "markdown",
      "metadata": {
        "id": "tFzmcr2wMNS8",
        "colab_type": "text"
      },
      "source": [
        "Source : https://stackoverflow.com/questions/56470486/multiplicative-digital-root-and-multiplicative-persistence"
      ]
    },
    {
      "cell_type": "code",
      "metadata": {
        "id": "PzFHcjy-MPKt",
        "colab_type": "code",
        "colab": {
          "base_uri": "https://localhost:8080/",
          "height": 52
        },
        "outputId": "d8db8aa2-3577-4a10-9d94-e83f1e369e9d"
      },
      "source": [
        "## I tried couple of time calling a fucntion with in fucntion but gave few errors. So, Googled and got the below code. I copied beacuse I unserstood it\n",
        "\n",
        "def mdr_mp(num):\n",
        "    '''\n",
        "    This function computes the multiplicative digital root and multiplicative persistence of a given number\n",
        "    '''\n",
        "    product = 1\n",
        "    mdr = num\n",
        "    count = 0\n",
        "\n",
        "    #Find mdr and persistence \n",
        "    while mdr > 9: #as long as mdr is > 9 \n",
        "        while num > 0: #as long as quotient is > 0 \n",
        "            #use divmod fn to return the quotient and remainder of num when divided by 10\n",
        "            num, number = divmod(num, 10)\n",
        "            product *= number #perform product of each digit in the number\n",
        "            count += 1\n",
        "        mdr = product #set product to mdr so as to check if it is > 9 else repeat\n",
        "        num = product #set product to num so as to perform the product again\n",
        "        product = 1 #initialize product to 1 so that product of the new num can be computed\n",
        "        #count += 1 #multiplicative persistence \n",
        "\n",
        "    return [mdr, count] #returns multiplicative digital root and multiplicative persistence as a list\n",
        "\n",
        "num = 222\n",
        "    #Function call returns list of number containing mdr and mp\n",
        "print(\"Number: (MDR, MP)\")\n",
        "list1 = mdr_mp(num)\n",
        "print(num, \": \", list1)"
      ],
      "execution_count": 33,
      "outputs": [
        {
          "output_type": "stream",
          "text": [
            "Number: (MDR, MP)\n",
            "222 :  [8, 3]\n"
          ],
          "name": "stdout"
        }
      ]
    },
    {
      "cell_type": "markdown",
      "metadata": {
        "id": "Ic0ERs9A-xXv",
        "colab_type": "text"
      },
      "source": [
        "**9. Write a function sumPdivisors() that finds the sum of proper divisors of a number. Proper divisors of a number are those numbers by which the number is divisible, except the number itself.  For example proper divisors of 36 are 1, 2, 3, 4, 6, 9, 18**"
      ]
    },
    {
      "cell_type": "code",
      "metadata": {
        "id": "70c0ufC3EIhU",
        "colab_type": "code",
        "colab": {}
      },
      "source": [
        "def mdr_mp(num):\n",
        "  product = 1\n",
        "  mdr = num\n",
        "  count = 0\n",
        "  while mdr > 9: #as long as mdr is > 9 \n",
        "    while num > 0: #as long as quotient is > 0 \n",
        "    #use divmod fn to return the quotient and remainder of num when divided by 10\n",
        "      num, number = divmod(num, 10)\n",
        "      product *= number #perform product of each digit in the number\n",
        "      count += 1\n",
        "      mdr = product #set product to mdr so as to check if it is > 9 else repeat\n",
        "      num = product #set product to num so as to perform the product again\n",
        "      product = 1 #initialize product to 1 so that product of the new num can be computed\n",
        "    #count += 1 #multiplicative persistence \n",
        "  return [mdr, count] #returns multiplicative digital root and multiplicative persistence as a list"
      ],
      "execution_count": 0,
      "outputs": []
    },
    {
      "cell_type": "markdown",
      "metadata": {
        "id": "SLEJn_AX-xXw",
        "colab_type": "text"
      },
      "source": [
        "**10. A number is called perfect if the sum of proper divisors of that number is equal to the number. For example 28 is perfect number, since 1+2+4+7+14=28. Write a program to print all the perfect numbers in a given range**"
      ]
    },
    {
      "cell_type": "code",
      "metadata": {
        "id": "xGq98tYLEX2n",
        "colab_type": "code",
        "colab": {}
      },
      "source": [
        "# Returns true if n is perfect \n",
        "def isPerfect( n ): \n",
        "      \n",
        "    # To store sum of divisors \n",
        "    sum = 1\n",
        "      \n",
        "    # Find all divisors and add them \n",
        "    i = 2\n",
        "    while i * i <= n: \n",
        "        if n % i == 0: \n",
        "            sum = sum + i + n/i \n",
        "        i += 1\n",
        "      \n",
        "    # If sum of divisors is equal to \n",
        "    # n, then n is a perfect number \n",
        "      \n",
        "    return (True if sum == n and n!=1 else False) "
      ],
      "execution_count": 0,
      "outputs": []
    },
    {
      "cell_type": "code",
      "metadata": {
        "id": "jwcObVXxGkEZ",
        "colab_type": "code",
        "outputId": "53583d91-5004-478b-8088-8eb14748b4fb",
        "colab": {
          "base_uri": "https://localhost:8080/",
          "height": 35
        }
      },
      "source": [
        "isPerfect(1234)"
      ],
      "execution_count": 0,
      "outputs": [
        {
          "output_type": "execute_result",
          "data": {
            "text/plain": [
              "False"
            ]
          },
          "metadata": {
            "tags": []
          },
          "execution_count": 21
        }
      ]
    },
    {
      "cell_type": "code",
      "metadata": {
        "id": "Os9o2-GnGqB6",
        "colab_type": "code",
        "outputId": "44f4f532-744b-4504-8be2-b18a7d403ce2",
        "colab": {
          "base_uri": "https://localhost:8080/",
          "height": 35
        }
      },
      "source": [
        "isPerfect(28)"
      ],
      "execution_count": 0,
      "outputs": [
        {
          "output_type": "execute_result",
          "data": {
            "text/plain": [
              "True"
            ]
          },
          "metadata": {
            "tags": []
          },
          "execution_count": 22
        }
      ]
    },
    {
      "cell_type": "markdown",
      "metadata": {
        "id": "jKvPMNz7-xXx",
        "colab_type": "text"
      },
      "source": [
        "**11. Two different numbers are called amicable numbers if the sum of the proper divisors of each is equal to the other number. For example 220 and 284 are amicable numbers.Sum of proper divisors of 220 = 1+2+4+5+10+11+20+22+44+55+110 = 284 Sum of proper divisors of 284 = 1+2+4+71+142 = 220 Write a function to print pairs of amicable numbers in a range**"
      ]
    },
    {
      "cell_type": "code",
      "metadata": {
        "id": "ozFQ4zmRHV9i",
        "colab_type": "code",
        "colab": {}
      },
      "source": [
        "def amicable(a, b):\n",
        "   total = 0\n",
        "   result = 0\n",
        "   for i in range(1, a):\n",
        "      if a % i == 0:\n",
        "        total += i\n",
        "   for j in range(1, b):\n",
        "      if b % j == 0:\n",
        "        result += j\n",
        "   if total == b and result == a:\n",
        "        return True\n",
        "   return False\n",
        "\n",
        "sum_of_amicables = 0\n",
        "for m in range (1, 101):\n",
        "    for n in range (1, 101):\n",
        "        if amicable(m, n) == True and m != n:\n",
        "            sum_of_amicables = sum_of_amicables + m + n\n",
        "\n",
        "# Source :: https://stackoverflow.com/questions/38094818/what-is-the-most-efficient-way-to-find-amicable-numbers-in-python"
      ],
      "execution_count": 0,
      "outputs": []
    },
    {
      "cell_type": "markdown",
      "metadata": {
        "id": "olFs6xA--xX2",
        "colab_type": "text"
      },
      "source": [
        "**12. Write a program which can filter odd numbers in a list by using filter function**"
      ]
    },
    {
      "cell_type": "code",
      "metadata": {
        "trusted": true,
        "id": "eYip9aqi-xX3",
        "colab_type": "code",
        "outputId": "8a3da1b9-2e28-4e95-ad73-89299b99fa96",
        "colab": {
          "base_uri": "https://localhost:8080/",
          "height": 35
        }
      },
      "source": [
        "realNumbers = [10,20,56,78,45,32,31,1003,234]\n",
        "only_odd = list(filter(lambda x: x%2 == 1, realNumbers))\n",
        "print(only_odd)"
      ],
      "execution_count": 0,
      "outputs": [
        {
          "output_type": "stream",
          "text": [
            "[45, 31, 1003]\n"
          ],
          "name": "stdout"
        }
      ]
    },
    {
      "cell_type": "markdown",
      "metadata": {
        "id": "04NT5J_O-xX8",
        "colab_type": "text"
      },
      "source": [
        "**13. Write a program which can map() to make a list whose elements are cube of elements in a given list**"
      ]
    },
    {
      "cell_type": "code",
      "metadata": {
        "id": "38NHI6fO_IiA",
        "colab_type": "code",
        "outputId": "6d4582fd-eacf-4d19-f46b-04fdf6c62743",
        "colab": {
          "base_uri": "https://localhost:8080/",
          "height": 35
        }
      },
      "source": [
        "realNumbers = [5, 7, 22, 97, 54, 62, 77, 23, 73, 61] \n",
        "Cube_realNumbers = list(map(lambda x: x**3 , realNumbers)) \n",
        "print(Cube_realNumbers) "
      ],
      "execution_count": 0,
      "outputs": [
        {
          "output_type": "stream",
          "text": [
            "[125, 343, 10648, 912673, 157464, 238328, 456533, 12167, 389017, 226981]\n"
          ],
          "name": "stdout"
        }
      ]
    },
    {
      "cell_type": "markdown",
      "metadata": {
        "id": "f__MoIjy-xX8",
        "colab_type": "text"
      },
      "source": [
        "**14. Write a program which can map() and filter() to make a list whose elements are cube of even number in a given list**"
      ]
    },
    {
      "cell_type": "code",
      "metadata": {
        "trusted": true,
        "id": "3sHKVWGl-xX9",
        "colab_type": "code",
        "outputId": "de8adfd4-f1c9-40ee-9336-9e534f477805",
        "colab": {
          "base_uri": "https://localhost:8080/",
          "height": 35
        }
      },
      "source": [
        "realNumbers = range(0,10)\n",
        " \n",
        "Cube_evenNumbers = list(map(lambda x: x**2, filter(lambda   x: x%2==0, realNumbers)))\n",
        " \n",
        "print(Cube_evenNumbers)"
      ],
      "execution_count": 0,
      "outputs": [
        {
          "output_type": "stream",
          "text": [
            "[0, 4, 16, 36, 64]\n"
          ],
          "name": "stdout"
        }
      ]
    }
  ]
}