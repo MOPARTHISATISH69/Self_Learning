{
  "nbformat": 4,
  "nbformat_minor": 0,
  "metadata": {
    "kernelspec": {
      "display_name": "Python 3",
      "language": "python",
      "name": "python3"
    },
    "language_info": {
      "codemirror_mode": {
        "name": "ipython",
        "version": 3
      },
      "file_extension": ".py",
      "mimetype": "text/x-python",
      "name": "python",
      "nbconvert_exporter": "python",
      "pygments_lexer": "ipython3",
      "version": "3.6.8"
    },
    "colab": {
      "name": "1_Python_Assignment.ipynb",
      "provenance": [],
      "collapsed_sections": []
    }
  },
  "cells": [
    {
      "cell_type": "markdown",
      "metadata": {
        "id": "l0ZzOlyxB-kf",
        "colab_type": "text"
      },
      "source": [
        "<h1>Python: without numpy or sklearn </h1>"
      ]
    },
    {
      "cell_type": "markdown",
      "metadata": {
        "id": "C0xO8JV9B-ki",
        "colab_type": "text"
      },
      "source": [
        "<h3> Q1: Given two matrices please print the product of those two matrices </h3>\n",
        "<pre>\n",
        "\n",
        "Ex 1: A   = [[1 3 4]\n",
        "             [2 5 7]\n",
        "             [5 9 6]]\n",
        "      B   = [[1 0 0]\n",
        "             [0 1 0]\n",
        "             [0 0 1]]\n",
        "      A*B = [[1 3 4]\n",
        "             [2 5 7]\n",
        "             [5 9 6]]\n",
        "\n",
        "     \n",
        "Ex 2: A   = [[1 2]\n",
        "             [3 4]]\n",
        "      B   = [[1 2 3 4 5]\n",
        "             [5 6 7 8 9]]\n",
        "      A*B = [[11 14 17 20 23]\n",
        "             [18 24 30 36 42]]\n",
        "             \n",
        "Ex 3: A   = [[1 2]\n",
        "             [3 4]]\n",
        "      B   = [[1 4]\n",
        "             [5 6]\n",
        "             [7 8]\n",
        "             [9 6]]\n",
        "      A*B =Not possible\n",
        "</pre>"
      ]
    },
    {
      "cell_type": "code",
      "metadata": {
        "id": "rnssAfpgB-kj",
        "colab_type": "code",
        "colab": {}
      },
      "source": [
        "# write your python code here\n",
        "# you can take the above example as sample input for your program to test\n",
        "# it should work for any general input try not to hard code for only given input examples\n",
        "\n",
        "\n",
        "# you can free to change all these codes/structure\n",
        "# here A and B are list of lists\n",
        "#We can only multiply matrices if the number of columns in the first matrix is the same as the number of rows in the second matrix\n",
        "def matrix_mul(A, B):\n",
        "  try:\n",
        "      if len(A[0]) == len(B):\n",
        "        for i in range(len(A[0])):\n",
        "          if len(A[i]) == len(A[i+1]) and len(B[i]) == len(B[i+1]):           # Checking the size of all columns in both matrices.\n",
        "                    return [[sum(a*b for a,b in zip(A_row,B_col)) for B_col in zip(*B)] for A_row in A]  # List comprehension which returns the matrix multiplication. \n",
        "          else:\n",
        "            print(\"All columns must have same number of elements\")\n",
        "      else:\n",
        "          print(\"Matrix multiplication is not possible\")\n",
        "  except:\n",
        "    print(\"Please enter correct format of the matrix /check elements in rows and columns or Size of the matrix. \")"
      ],
      "execution_count": 0,
      "outputs": []
    },
    {
      "cell_type": "code",
      "metadata": {
        "id": "rS_6k1wt3teL",
        "colab_type": "code",
        "outputId": "9fe340b9-2d8a-4f6d-8585-1785eb477872",
        "colab": {
          "base_uri": "https://localhost:8080/",
          "height": 34
        }
      },
      "source": [
        "## Example 1: \n",
        "\n",
        "A   = [[1,3,4],\n",
        "       [2,5,7],\n",
        "       [5,9,6]]\n",
        "B   = [[1,0,0],\n",
        "       [0,1,0],\n",
        "       [0,0,1]]\n",
        "# A*B = [[1 3 4][2 5 7][5 9 6]]\n",
        "\n",
        "matrix_mul(A,B)\n"
      ],
      "execution_count": 0,
      "outputs": [
        {
          "output_type": "execute_result",
          "data": {
            "text/plain": [
              "[[1, 3, 4], [2, 5, 7], [5, 9, 6]]"
            ]
          },
          "metadata": {
            "tags": []
          },
          "execution_count": 2
        }
      ]
    },
    {
      "cell_type": "code",
      "metadata": {
        "id": "9mc2D9mW4OXc",
        "colab_type": "code",
        "outputId": "c3671d8f-4d66-46f6-a7f4-c6f1b708a2e1",
        "colab": {
          "base_uri": "https://localhost:8080/",
          "height": 34
        }
      },
      "source": [
        "## Example  2: \n",
        "A   = [[1,2],[3,4]]\n",
        "B   = [[1,2,3,4,5],[5,6,7,8,9]]\n",
        "## A*B = [[11 14 17 20 23] [18 24 30 36 42]]\n",
        "matrix_mul(A,B)\n"
      ],
      "execution_count": 0,
      "outputs": [
        {
          "output_type": "execute_result",
          "data": {
            "text/plain": [
              "[[11, 14, 17, 20, 23], [23, 30, 37, 44, 51]]"
            ]
          },
          "metadata": {
            "tags": []
          },
          "execution_count": 3
        }
      ]
    },
    {
      "cell_type": "code",
      "metadata": {
        "id": "r4Xwq-484Ofg",
        "colab_type": "code",
        "outputId": "2064d408-c0ee-406a-cd0a-861ecbeaa304",
        "colab": {
          "base_uri": "https://localhost:8080/",
          "height": 34
        }
      },
      "source": [
        "## Example 3: \n",
        "A   = [[1,2],[3,4]]\n",
        "B   = [[1,4],[5,6],[7,8],[9,6]]\n",
        "\n",
        "##A*B =Not possible\n",
        "matrix_mul(A,B)"
      ],
      "execution_count": 0,
      "outputs": [
        {
          "output_type": "stream",
          "text": [
            "Matrix multiplication is not possible\n"
          ],
          "name": "stdout"
        }
      ]
    },
    {
      "cell_type": "code",
      "metadata": {
        "id": "OgeIHiN95uNO",
        "colab_type": "code",
        "outputId": "0b9cfdb3-fcdc-4a8d-8ddb-a977ac6c5fad",
        "colab": {
          "base_uri": "https://localhost:8080/",
          "height": 34
        }
      },
      "source": [
        "## Example 4\n",
        "A   = [[1,2],[3,4]]\n",
        "B   = [[1,4],['s',6]]\n",
        "\n",
        "## Some error it should throw as B[1][0] is alphabet\n",
        "matrix_mul(A,B)\n"
      ],
      "execution_count": 0,
      "outputs": [
        {
          "output_type": "stream",
          "text": [
            "Please enter correct format of the matrix /check elements in rows and columns or Size of the matrix. \n"
          ],
          "name": "stdout"
        }
      ]
    },
    {
      "cell_type": "code",
      "metadata": {
        "id": "-JFI1mNs_a0z",
        "colab_type": "code",
        "outputId": "1c07008b-36aa-4416-e4aa-308e28a24ad7",
        "colab": {
          "base_uri": "https://localhost:8080/",
          "height": 52
        }
      },
      "source": [
        "### Example 5\n",
        "A   = [[1,2],[3,4]]\n",
        "B   = [[1,4],[6]]\n",
        "\n",
        "## Some error it should throw as B[1][0] or B[1][1] is null/empty\n",
        "matrix_mul(A,B)"
      ],
      "execution_count": 0,
      "outputs": [
        {
          "output_type": "stream",
          "text": [
            "All columns must have same number of elements\n",
            "Please enter correct format of the matrix /check elements in rows and columns or Size of the matrix. \n"
          ],
          "name": "stdout"
        }
      ]
    },
    {
      "cell_type": "markdown",
      "metadata": {
        "id": "at4VwLggB-kn",
        "colab_type": "text"
      },
      "source": [
        "<h3> Q2: Select a number randomly with probability proportional to its magnitude from the given array of n elements</h3>\n",
        "\n",
        "consider an experiment, selecting an element from the list A randomly with probability proportional to its magnitude.\n",
        "assume we are doing the same experiment for 100 times with replacement, in each experiment you will print a number that is selected randomly from A.\n",
        "\n",
        "<pre>\n",
        "Ex 1: A = [0 5 27 6 13 28 100 45 10 79]\n",
        "let f(x) denote the number of times x getting selected in 100 experiments.\n",
        "f(100) > f(79) > f(45) > f(28) > f(27) > f(13) > f(10) > f(6) > f(5) > f(0)\n",
        "</pre>"
      ]
    },
    {
      "cell_type": "code",
      "metadata": {
        "id": "B6S2dpBhB-kn",
        "colab_type": "code",
        "outputId": "a4686f51-09bf-4f55-f7f6-0d8081979c03",
        "colab": {
          "base_uri": "https://localhost:8080/",
          "height": 193
        }
      },
      "source": [
        "from random import uniform\n",
        "# write your python code here\n",
        "# you can take the above example as sample input for your program to test\n",
        "# it should work for any general input try not to hard code for only given input examples\n",
        "\n",
        "## Source :: https://stackoverflow.com/questions/57892112/select-a-number-randomly-with-probability-proportional-to-its-magnitude-from-the\n",
        "\n",
        "# you can free to change all these codes/structure\n",
        "from random import uniform\n",
        "# write your python code here\n",
        "# you can take the above example as sample input for your program to test\n",
        "# it should work for any general input try not to hard code for only given input examples\n",
        "\n",
        "## Source :: https://stackoverflow.com/questions/57892112/select-a-number-randomly-with-probability-proportional-to-its-magnitude-from-the\n",
        "\n",
        "# you can free to change all these codes/structure\n",
        "def pick_a_number_from_list(A):\n",
        "    Sum = 0\n",
        "    for i in range(len(A)):\n",
        "        Sum+=A[i]                    ## Sum of all elements in the list    \n",
        "    A_dash = []                    \n",
        "    for i in range(len(A)):         \n",
        "        b=A[i]/Sum                    ## Dividing each element in the list by sum of list \n",
        "        A_dash.append(b)              ## Adding the new real number to A_dash list\n",
        "    cumsum=[]\n",
        "    cumsum.append(A_dash[0])          ## Creating and adding 0th element of Cummulative Sum list { if we don't append oth element it throws an error in next { index out of range}}\n",
        "    for j in range(1, len(A)):\n",
        "      cumsum.append(cumsum[j-1]+A_dash[j])    ## adding the cumsum 0th element and A_dash 1st element, adding gives cummulative sum. \n",
        "\n",
        "    sample_value = uniform(0.0,1.0)            ## Creating the sample value from unifrom in between 0 and 1.  \n",
        "    r = sample_value\n",
        "    print(r)          \n",
        "    if r<cumsum[1]:                                ## Comparing the cumsum elements with sample values and returning the magnitude value.\n",
        "            return 1\n",
        "    elif r>cumsum[1] and r <cumsum[2]:  \n",
        "            return 2\n",
        "    elif r<cumsum[3]: \n",
        "            return 3\n",
        "    elif r<cumsum[4]: \n",
        "            return 4\n",
        "    elif r<cumsum[5]: \n",
        "            return 5\n",
        "    elif r<cumsum[6]:  \n",
        "            return 6\n",
        "    elif r<cumsum[7]: \n",
        "            return 7\n",
        "    elif r<cumsum[8]: \n",
        "            return 8\n",
        "    elif r<cumsum[9]:\n",
        "            return 9\n",
        "\n",
        "\n",
        "def sampling_based_on_magnitued():\n",
        "\n",
        "    A = [0,5,27,6,13,28,100,45,10,79]\n",
        "    for i in range(1,10):\n",
        "      num = pick_a_number_from_list(A)\n",
        "    print(A[num])\n",
        "\n",
        "sampling_based_on_magnitued()"
      ],
      "execution_count": 0,
      "outputs": [
        {
          "output_type": "stream",
          "text": [
            "0.05101930467537008\n",
            "0.5966356410152207\n",
            "0.546850080360059\n",
            "0.2463777731730783\n",
            "0.28620724495833927\n",
            "0.9947689965480401\n",
            "0.40682627990027687\n",
            "0.5026221743717986\n",
            "0.49348399717853286\n",
            "100\n"
          ],
          "name": "stdout"
        }
      ]
    },
    {
      "cell_type": "markdown",
      "metadata": {
        "id": "D1xQy2WWB-kq",
        "colab_type": "text"
      },
      "source": [
        "<h3> Q3: Replace the digits in the string with #</h3>\n",
        "\n",
        "consider a string that will have digits in that, we need to remove all the not digits and replace the digits with #\n",
        "<pre>\n",
        "Ex 1: A = 234                Output: ###\n",
        "Ex 2: A = a2b3c4             Output: ###\n",
        "Ex 3: A = abc                Output:   (empty string)\n",
        "Ex 5: A = #2a$#b%c%561#      Output: ####\n",
        "</pre>"
      ]
    },
    {
      "cell_type": "code",
      "metadata": {
        "id": "fxczi2jzB-kr",
        "colab_type": "code",
        "colab": {}
      },
      "source": [
        "import re\n",
        "# write your python code here\n",
        "# you can take the above example as sample input for your program to test\n",
        "# it should work for any general input try not to hard code for only given input examples\n",
        "\n",
        "# you can free to change all these codes/structure\n",
        "# String: it will be the input to your program\n",
        "def replace_digits(String): \n",
        "  if type(String) == int:                              ## Cheking whether the user input is string or int.\n",
        "    print(\"Please enter string\")\n",
        "  else:\n",
        "    for char in String:                                 ## Iterating through all characters in the entered string.\n",
        "      Ash = ''.join('#' for char in String if char.isdigit())      ## Replacing the digits with \"#\" and ingoring remaining \n",
        "    return Ash                                          ## Returning the Ash"
      ],
      "execution_count": 0,
      "outputs": []
    },
    {
      "cell_type": "code",
      "metadata": {
        "id": "VViF4B_dJ3wb",
        "colab_type": "code",
        "outputId": "ccc06d69-18cb-427b-d4fd-856978b6fd61",
        "colab": {
          "base_uri": "https://localhost:8080/",
          "height": 34
        }
      },
      "source": [
        "## Example 1: \n",
        "A = '234'                \n",
        "# Output: ###\n",
        "replace_digits(A)"
      ],
      "execution_count": 0,
      "outputs": [
        {
          "output_type": "execute_result",
          "data": {
            "text/plain": [
              "'###'"
            ]
          },
          "metadata": {
            "tags": []
          },
          "execution_count": 26
        }
      ]
    },
    {
      "cell_type": "code",
      "metadata": {
        "id": "3bsT7GF-J33Y",
        "colab_type": "code",
        "outputId": "a38583a3-aa2c-484f-f587-369091c7eda4",
        "colab": {
          "base_uri": "https://localhost:8080/",
          "height": 34
        }
      },
      "source": [
        "## Example 2:\n",
        "A = 'a2b3c4'             \n",
        "# Output: ###\n",
        "replace_digits(A)"
      ],
      "execution_count": 0,
      "outputs": [
        {
          "output_type": "execute_result",
          "data": {
            "text/plain": [
              "'###'"
            ]
          },
          "metadata": {
            "tags": []
          },
          "execution_count": 16
        }
      ]
    },
    {
      "cell_type": "code",
      "metadata": {
        "id": "aLkjKlRGJ38Q",
        "colab_type": "code",
        "outputId": "b113aed9-b9d3-49bd-ea26-e78c4830494c",
        "colab": {
          "base_uri": "https://localhost:8080/",
          "height": 34
        }
      },
      "source": [
        "## Example 3:\n",
        "A = 'abc'                \n",
        "# Output:   (empty string)\n",
        "replace_digits(A)"
      ],
      "execution_count": 0,
      "outputs": [
        {
          "output_type": "execute_result",
          "data": {
            "text/plain": [
              "''"
            ]
          },
          "metadata": {
            "tags": []
          },
          "execution_count": 17
        }
      ]
    },
    {
      "cell_type": "code",
      "metadata": {
        "id": "A4G8Bf8xJ4BY",
        "colab_type": "code",
        "outputId": "f98e079b-cbdf-4df5-c220-1c2ce522f40d",
        "colab": {
          "base_uri": "https://localhost:8080/",
          "height": 34
        }
      },
      "source": [
        "## Example 4:\n",
        "A = '#2a$#b%c%561#'      \n",
        "# Output: ####\n",
        "replace_digits(A)"
      ],
      "execution_count": 0,
      "outputs": [
        {
          "output_type": "execute_result",
          "data": {
            "text/plain": [
              "'####'"
            ]
          },
          "metadata": {
            "tags": []
          },
          "execution_count": 18
        }
      ]
    },
    {
      "cell_type": "code",
      "metadata": {
        "id": "OukiRzW4J4F1",
        "colab_type": "code",
        "outputId": "67a09dc0-1de9-4e03-da60-3b83e61a9953",
        "colab": {
          "base_uri": "https://localhost:8080/",
          "height": 34
        }
      },
      "source": [
        "## Example 5:\n",
        "A = 345      \n",
        "# Output: ####\n",
        "replace_digits(A)"
      ],
      "execution_count": 0,
      "outputs": [
        {
          "output_type": "stream",
          "text": [
            "Please enter string\n"
          ],
          "name": "stdout"
        }
      ]
    },
    {
      "cell_type": "markdown",
      "metadata": {
        "id": "j7h0Ywg7B-kw",
        "colab_type": "text"
      },
      "source": [
        "<h3> Q4: Students marks dashboard</h3>\n",
        "\n",
        "consider the marks list of class students given two lists <br>\n",
        "Students = ['student1','student2','student3','student4','student5','student6','student7','student8','student9','student10'] <br>\n",
        "Marks = [45, 78, 12, 14, 48, 43, 45, 98, 35, 80] <br>\n",
        "from the above two lists the Student[0] got Marks[0],  Student[1] got Marks[1] and so on <br><br>\n",
        "your task is to print the name of students\n",
        "<strong>a. Who got top 5 ranks, in the descending order of marks</strong> <br>\n",
        "<strong>b. Who got least 5 ranks, in the increasing order of marks</strong><br>\n",
        "<strong>d. Who got marks between  &gt;25th percentile &lt;75th percentile, in the increasing order of marks</strong>\n",
        "\n",
        "<pre>\n",
        "Ex 1: \n",
        "Students=['student1','student2','student3','student4','student5','student6','student7','student8','student9','student10'] \n",
        "Marks = [45, 78, 12, 14, 48, 43, 47, 98, 35, 80]\n",
        "a. \n",
        "student8  98\n",
        "student10 80\n",
        "student2  78\n",
        "student5  48\n",
        "student7  47\n",
        "b.\n",
        "student3 12\n",
        "student4 14\n",
        "student9 35\n",
        "student6 43\n",
        "student1 45\n",
        "c.\n",
        "student9 35\n",
        "student6 43\n",
        "student1 45\n",
        "student7 47\n",
        "student5 48\n",
        "</pre>"
      ]
    },
    {
      "cell_type": "code",
      "metadata": {
        "id": "cxPJgItsB-kx",
        "colab_type": "code",
        "colab": {}
      },
      "source": [
        "# write your python code here\n",
        "# you can take the above example as sample input for your program to test\n",
        "# it should work for any general input try not to hard code for only given input examples\n",
        "# you can free to change all these codes/structure\n",
        "\n",
        "## We can make use of Zip funciton , which combines two lists based on Index. \n",
        "def display_dash_board(Students, Marks):\n",
        "    #zip the two lists, create a new sorted list based on zip \n",
        "    if((len(Students)!=0 and len(Marks)!=0) and len(Students) == len(Marks)):\n",
        "        #Zipping and converting into list bases on Index values lile [('student1', 45), ('student2', 78)............]\n",
        "        zipped = list(zip(Students,Marks))\n",
        "        ## Sorting the Zipped values in ascending order\n",
        "        Sorted_Students = list(sorted(zipped,key=lambda x :x[1],reverse=True))\n",
        "        print(\"Top 5 students are\")\n",
        "        for i in range(0,5):                      \n",
        "          print(Sorted_Students[i][0],\":\",Sorted_Students[i][1])\n",
        "        print(\"\\nLeast 5 students are\")\n",
        "        for i in range(-5,0,1):\n",
        "          print(Sorted_Students[i][0],\":\",Sorted_Students[i][1])\n",
        "        print(\"\\nStudents_within_25_and_75\")\n",
        "        Marks = sorted(Marks)\n",
        "        Min_Marks = Marks[0]\n",
        "        Max_Marks = Marks[-1]\n",
        "        Min_Max = Max_Marks - Min_Marks\n",
        "        percentile_25 = Min_Max*0.25\n",
        "        percentile_75 = Min_Max*0.75\n",
        "        for i in range(len(Marks)):\n",
        "          if  percentile_25 <  Sorted_Students[i][1] < percentile_75:\n",
        "            print(Sorted_Students[i][0],\":\",Sorted_Students[i][1])  \n",
        "    else:\n",
        "      print(\"Please enter Lists of same size or non empty strings\")"
      ],
      "execution_count": 0,
      "outputs": []
    },
    {
      "cell_type": "code",
      "metadata": {
        "id": "Lk1Lcz8ZXfiE",
        "colab_type": "code",
        "outputId": "3d35ab98-5a17-436e-d08c-5c4dcba2e9ae",
        "colab": {
          "base_uri": "https://localhost:8080/",
          "height": 368
        }
      },
      "source": [
        "Students = ['student1','student2','student3','student4','student5','student6','student7','student8','student9','student10']\n",
        "Marks = [45, 78, 12, 14, 48, 43, 45, 98, 35,80]\n",
        "display_dash_board(Students, Marks)"
      ],
      "execution_count": 0,
      "outputs": [
        {
          "output_type": "stream",
          "text": [
            "Top 5 students are\n",
            "student8 : 98\n",
            "student10 : 80\n",
            "student2 : 78\n",
            "student5 : 48\n",
            "student1 : 45\n",
            "\n",
            "Least 5 students are\n",
            "student7 : 45\n",
            "student6 : 43\n",
            "student9 : 35\n",
            "student4 : 14\n",
            "student3 : 12\n",
            "\n",
            "Students_within_25_and_75\n",
            "student5 : 48\n",
            "student1 : 45\n",
            "student7 : 45\n",
            "student6 : 43\n",
            "student9 : 35\n"
          ],
          "name": "stdout"
        }
      ]
    },
    {
      "cell_type": "markdown",
      "metadata": {
        "id": "qha0OhQHB-k1",
        "colab_type": "text"
      },
      "source": [
        "<h3> Q5: Find the closest points</h3>\n",
        "\n",
        "consider you have given n data points in the form of list of tuples like S=[(x1,y1),(x2,y2),(x3,y3),(x4,y4),(x5,y5),..,(xn,yn)] and a point P=(p,q) <br> your task is to find 5 closest points(based on cosine distance) in S from P\n",
        "<br>cosine distance between two points (x,y) and (p,q) is defind as $cos^{-1}(\\frac{(x\\cdot p+y\\cdot q)}{\\sqrt(x^2+y^2)\\cdot\\sqrt(p^2+q^2)})$\n",
        "<pre>\n",
        "Ex:\n",
        "\n",
        "S= [(1,2),(3,4),(-1,1),(6,-7),(0, 6),(-5,-8),(-1,-1)(6,0),(1,-1)]\n",
        "P= (3,-4)\n",
        "<img src='https://i.imgur.com/vIFPOcG.jpg', width=300>\n",
        "Output:\n",
        "(6,-7)\n",
        "(1,-1)\n",
        "(6,0)\n",
        "(-5,-8)\n",
        "(-1,-1)\n",
        "</pre>"
      ]
    },
    {
      "cell_type": "code",
      "metadata": {
        "id": "wA5I1g-2B-k2",
        "colab_type": "code",
        "outputId": "a0d3a93a-b088-4ec8-c430-ae806c311315",
        "colab": {
          "base_uri": "https://localhost:8080/",
          "height": 105
        }
      },
      "source": [
        "import math\n",
        "P = (3, -4) \n",
        "S = [(1, 2), (3, 4), (-1, 1), (6, -7), (0, 6), (-5, -8), (-1, -1), (6, 0), (1, -1)]\n",
        "cosine_dist = []\n",
        "\n",
        "for x,y in S:\n",
        "\n",
        "    xintoy_plus_yintoq = x * P[0] + y * P[1]\n",
        "    sqrt_of_xypq = math.sqrt(x * x + y * y) * math.sqrt(P[0] * P[0] + P[1] * P[1])\n",
        "    cosine_dist.append(math.acos(xintoy_plus_yintoq/sqrt_of_xypq))\n",
        "## List of acos values like [2.0344439357957027, 1.8545904360032246......]\n",
        "X = cosine_dist                  \n",
        "## Sorted List od tuples with point and acosine values like [((6, -7), 0.06512516333438509), ((1, -1), 0.14189705460416438).....]\n",
        "Y = [S for S in sorted(zip(S,X), key=lambda i:i[1])] \n",
        "## accessing the first 5 points from list of tuples\n",
        "k = Y[:5]   \n",
        "# Printing the points which are near to list\n",
        "for i, j in k:\n",
        "    print(i)"
      ],
      "execution_count": 0,
      "outputs": [
        {
          "output_type": "stream",
          "text": [
            "(6, -7)\n",
            "(1, -1)\n",
            "(6, 0)\n",
            "(-5, -8)\n",
            "(-1, -1)\n"
          ],
          "name": "stdout"
        }
      ]
    },
    {
      "cell_type": "markdown",
      "metadata": {
        "id": "GpcPWF4ian8l",
        "colab_type": "text"
      },
      "source": [
        "I am getting an error while executing the with fucntion saying \n",
        "'tuple' object is not callable\n",
        "So, Wrote code without function.\n"
      ]
    },
    {
      "cell_type": "markdown",
      "metadata": {
        "id": "-g11jeAiB-k5",
        "colab_type": "text"
      },
      "source": [
        "<h3> Q6: Find Which line separates oranges and apples</h3>\n",
        "consider you have given two set of data points in the form of list of tuples like \n",
        "<pre>\n",
        "Red =[(R11,R12),(R21,R22),(R31,R32),(R41,R42),(R51,R52),..,(Rn1,Rn2)]\n",
        "Blue=[(B11,B12),(B21,B22),(B31,B32),(B41,B42),(B51,B52),..,(Bm1,Bm2)]\n",
        "</pre>\n",
        "and set of line equations(in the string formate, i.e list of strings)\n",
        "<pre>\n",
        "Lines = [a1x+b1y+c1,a2x+b2y+c2,a3x+b3y+c3,a4x+b4y+c4,..,K lines]\n",
        "Note: you need to string parsing here and get the coefficients of x,y and intercept\n",
        "</pre>\n",
        "your task is to for each line that is given print \"YES\"/\"NO\", you will print yes, if all the red points are one side of the line and blue points are other side of the line, otherwise no\n",
        "<pre>\n",
        "Ex:\n",
        "Red= [(1,1),(2,1),(4,2),(2,4), (-1,4)]\n",
        "Blue= [(-2,-1),(-1,-2),(-3,-2),(-3,-1),(1,-3)]\n",
        "Lines=[\"1x+1y+0\",\"1x-1y+0\",\"1x+0y-3\",\"0x+1y-0.5\"]\n",
        "<img src='https://i.imgur.com/DoQf7mE.jpg' width=400>\n",
        "Output:\n",
        "YES\n",
        "NO\n",
        "NO\n",
        "YES\n",
        "</pre>"
      ]
    },
    {
      "cell_type": "markdown",
      "metadata": {
        "id": "FtzD0U-7NvQQ",
        "colab_type": "text"
      },
      "source": [
        "Let there be a point (x1,y1) and a line ax1+by1+c=0 on a Cartesian plane. Just put the values of point in the given equation and evaluate..\n",
        "\n",
        "If ax1+by1+c>0 then the point is above the line.\n",
        "\n",
        "If ax1+by1+c<0 then the point is below the line.\n",
        "\n",
        "If ax1+by1+c=0 then the point is on the line."
      ]
    },
    {
      "cell_type": "code",
      "metadata": {
        "id": "eRxExaTRB-k6",
        "colab_type": "code",
        "outputId": "70f54c4f-5037-4ea7-ddda-fa2e9fff3b9d",
        "colab": {
          "base_uri": "https://localhost:8080/",
          "height": 87
        }
      },
      "source": [
        "import math\n",
        "# write your python code here\n",
        "# you can take the above example as sample input for your program to test\n",
        "# it should work for any general input try not to hard code for only given input strings\n",
        "\n",
        "\n",
        "# you can free to change all these codes/structure\n",
        "import math\n",
        "Red= [(1,1),(2,1),(4,2),(2,4), (-1,4)]\n",
        "Blue= [(-2,-1),(-1,-2),(-3,-2),(-3,-1),(1,-3)]\n",
        "Lines=[\"1x+1y+0\",\"1x-1y+0\",\"1x+0y-3\",\"0x+1y-0.5\"]\n",
        "\n",
        "for i in range(len(Lines)):\n",
        "  red_Points = []\n",
        "  blue_Points = []\n",
        "  Coordinates=(' '.join(' '.join(Lines[i].split('x')).split('y'))).split(' ')   ## getting coordinCoordinatestes \n",
        "  for j in range(len(Red)):\n",
        "     ## Computing the distance by replacing the x and y values from Red points  / coordinates \n",
        "    pointR = Red[j][0]*float(Coordinates[0])+Red[j][1]*float(Coordinates[1])+float(Coordinates[2])  \n",
        "    red_Points.append(pointR)            # Appending the distance to list red_Points\n",
        "  for k in range(len(Blue)): \n",
        "     ## Computing the distance by replacing the x and y values from blue points / coordinates             \n",
        "    pointB = Blue[k][0]*float(Coordinates[0])+Blue[k][1]*float(Coordinates[1])+float(Coordinates[2])\n",
        "    blue_Points.append(pointB)          # Appending the distance to list red_Points\n",
        "  \n",
        "  red_Points_P= red_Points_N=blue_Points_N=blue_Points_P=0\n",
        "  ## If the distance is greater than zero the coordinates on the one side of plane else the other side of plane. \n",
        "  \n",
        "  for i in range(len(red_Points)):    ## Iterating for all distance for redpoints. \n",
        "    if red_Points[i]>0:               ## Checking , if the distance is more than zero \n",
        "      red_Points_P+=1                 ## if more than zero adding to positive list \n",
        "    else:\n",
        "      red_Points_N+=1                 ## If less than zero adding to negative list\n",
        "  if red_Points_P==len(red_Points):      ## Calcualting same for blue points as well \n",
        "    for i in range(len(blue_Points)):\n",
        "      if blue_Points[i]<0:\n",
        "        blue_Points_N+=1\n",
        "    if blue_Points_N==len(blue_Points):      ## Here if all points lies in one side of plane , the count is equal to lenght of list.\n",
        "      print ('YES')                          ## if count is equal to lenght , it returns YES\n",
        "  elif red_Points_N==len(red_Points):\n",
        "    for i in range(len(blue_Points)):         ## Same calculates for Blue points as well. \n",
        "      if blue_Points[i]>0:\n",
        "        blue_Points_P+=1\n",
        "    if blue_Points_P==len(blue_Points):  \n",
        "      print ('YES')\n",
        "  else:\n",
        "    print ('NO')"
      ],
      "execution_count": 0,
      "outputs": [
        {
          "output_type": "stream",
          "text": [
            "YES\n",
            "NO\n",
            "NO\n",
            "YES\n"
          ],
          "name": "stdout"
        }
      ]
    },
    {
      "cell_type": "markdown",
      "metadata": {
        "id": "9OBpURbNB-k9",
        "colab_type": "text"
      },
      "source": [
        "<h3> Q7: Filling the missing values in the specified formate</h3>\n",
        "You will be given a string with digits and '\\_'(missing value) symbols you have to replace the '\\_' symbols as explained \n",
        "<pre>\n",
        "Ex 1: _, _, _, 24 ==> 24/4, 24/4, 24/4, 24/4 i.e we. have distributed the 24 equally to all 4 places <br>\n",
        "Ex 2: 40, _, _, _, 60 ==> (60+40)/5,(60+40)/5,(60+40)/5,(60+40)/5,(60+40)/5 ==> 20, 20, 20, 20, 20 i.e. the sum of (60+40) is distributed qually to all 5 places<br>\n",
        "Ex 3: 80, _, _, _, _  ==> 80/5,80/5,80/5,80/5,80/5 ==> 16, 16, 16, 16, 16 i.e. the 80 is distributed qually to all 5 missing values that are right to it<br>\n",
        "Ex 4: _, _, 30, _, _, _, 50, _, _  \n",
        "==> we will fill the missing values from left to right \n",
        "    a. first we will distribute the 30 to left two missing values (10, 10, 10, _, _, _, 50, _, _)\n",
        "    b. now distribute the sum (10+50) missing values in between (10, 10, 12, 12, 12, 12, 12, _, _) \n",
        "    c. now we will distribute 12 to right side missing values (10, 10, 12, 12, 12, 12, 4, 4, 4)\n",
        "</pre>\n",
        "for a given string with comma seprate values, which will have both missing values numbers like ex: \"_, _, x, _, _, _\"\n",
        "you need fill the missing values\n",
        "\n",
        "Q: your program reads a string like ex: \"_, _, x, _, _, _\" and returns the filled sequence\n",
        "\n",
        "Ex: \n",
        "<pre>\n",
        "Input1: \"_,_,_,24\"\n",
        "Output1: 6,6,6,6\n",
        "\n",
        "Input2: \"40,_,_,_,60\"\n",
        "Output2: 20,20,20,20,20\n",
        "\n",
        "Input3: \"80,_,_,_,_\"\n",
        "Output3: 16,16,16,16,16\n",
        "\n",
        "Input4: \"_,_,30,_,_,_,50,_,_\"\n",
        "Output4: 10,10,12,12,12,12,4,4,4\n",
        "</pre>\n",
        "\n"
      ]
    },
    {
      "cell_type": "code",
      "metadata": {
        "id": "nZmpzHs_B-k-",
        "colab_type": "code",
        "colab": {}
      },
      "source": [
        "# write your python code here\n",
        "# you can take the above example as sample input for your program to test\n",
        "# it should work for any general input try not to hard code for only given input strings\n",
        "\n",
        "\n",
        "# you can free to change all these codes/structure\n",
        "def curve_smoothing(string):\n",
        "    _Count=0                                  ## To Calculate \"#\" count in between two given numbers\n",
        "    numCount = 0                              ## To add up the digits in given string.\n",
        "    stringList = string.split(\",\")            ## Spliting the given string based on comma(,) and storing the resultin form of list\n",
        "    for i in stringList:                      ## Running lopp for all characters in stringList list.\n",
        "        if i==\"_\":                            ## if any of the element is '#' it goes within loop and counts.\n",
        "            _Count+=1\n",
        "        else:                      \n",
        "            numCount=int(i)+numCount          ## If the element is digit, as it is string , converting it to int and adding to numCount. { 0 + 30 = 30}\n",
        "    \n",
        "    replaceSequence = int(numCount/len(stringList))      ## Calcualting the equal distributed numbers between numbers { 30+50/(len(string) =8) = 80/8 = 10 }\n",
        "    replaceNumber=[]                                    ## Creating an empty list\n",
        "    for i in range(len(stringList)):                    \n",
        "        replaceNumber.append(str(replaceSequence))         ## Here , for every iteration from 0 to len(string), number 10 is added to empty list\n",
        "    return ','.join(replaceNumber)                      ## Finally returning the new list with replaced values"
      ],
      "execution_count": 0,
      "outputs": []
    },
    {
      "cell_type": "code",
      "metadata": {
        "id": "SzfAzScEVHrV",
        "colab_type": "code",
        "outputId": "e628d1af-b7c7-4799-c731-31d98686a985",
        "colab": {
          "base_uri": "https://localhost:8080/",
          "height": 34
        }
      },
      "source": [
        "S=  \"_,_,_,24\"\n",
        "smoothed_values= curve_smoothing(S)\n",
        "print(smoothed_values)"
      ],
      "execution_count": 0,
      "outputs": [
        {
          "output_type": "stream",
          "text": [
            "6,6,6,6\n"
          ],
          "name": "stdout"
        }
      ]
    },
    {
      "cell_type": "code",
      "metadata": {
        "id": "tkXKVkHQVZPa",
        "colab_type": "code",
        "outputId": "a9029807-adad-4912-e59f-9cce9c944a63",
        "colab": {
          "base_uri": "https://localhost:8080/",
          "height": 34
        }
      },
      "source": [
        "S=  \"80,_,_,_,_\"\n",
        "smoothed_values= curve_smoothing(S)\n",
        "print(smoothed_values)"
      ],
      "execution_count": 0,
      "outputs": [
        {
          "output_type": "stream",
          "text": [
            "16,16,16,16,16\n"
          ],
          "name": "stdout"
        }
      ]
    },
    {
      "cell_type": "code",
      "metadata": {
        "id": "uWbP3NhTVTmZ",
        "colab_type": "code",
        "outputId": "bb94ce4d-c376-47f5-a55d-6a79b332d9a9",
        "colab": {
          "base_uri": "https://localhost:8080/",
          "height": 34
        }
      },
      "source": [
        "S=  \"40,_,_,_,60\"\n",
        "smoothed_values= curve_smoothing(S)\n",
        "print(smoothed_values)"
      ],
      "execution_count": 0,
      "outputs": [
        {
          "output_type": "stream",
          "text": [
            "20,20,20,20,20\n"
          ],
          "name": "stdout"
        }
      ]
    },
    {
      "cell_type": "markdown",
      "metadata": {
        "id": "cK8w3CiMVfIW",
        "colab_type": "text"
      },
      "source": [
        "I wrote the code for above with bounbdary cases but i faced many challences and finally came with below code for the String = \"_,_,30,_,_,_,50,_,_\"\n",
        "\n",
        "Source :: https://stackoverflow.com/questions/57179618/filling-the-missing-values-in-the-specified-format-python\n",
        "\n",
        "Only below copied from stackoverflow but I understood it before. "
      ]
    },
    {
      "cell_type": "code",
      "metadata": {
        "id": "PIJ1nhckVvAK",
        "colab_type": "code",
        "colab": {}
      },
      "source": [
        "def curve_smoothing(string):\n",
        "    lst=string.split(',')                         ## Splitting the list based on comma(,)\n",
        "    for i in range(len(lst)):           \n",
        "        if lst[i].isdigit():                      ## Running the lopp and chekcing it is digit or not.\n",
        "                lst[j]=int(lst[i])//(i+1)         ## Running floor division(2) for the to get an int and stores in list\n",
        "            new_index=i                           ## Storing the index where it finds the number from string.\n",
        "            new_value=int(lst[i])                 ## Storing the number from the index where it finds the number from string.\n",
        "            break                               \n",
        "    for i in range(new_index+1,len(lst)):           ## Again running lopp form next element from string ( index where it found to last)\n",
        "        if lst[i].isdigit():                        ## Repeats the same till it finds the next digit instead of \"#\"\n",
        "            temp=(new_value+int(lst[i]))//(i-new_index+1)\n",
        "            for j in range(new_index,i+1):\n",
        "                lst[j]=temp\n",
        "            new_index=i\n",
        "            new_value=int(lst[i])\n",
        "    try:\n",
        "        for i in range(new_index+1,len(lst)):            ## it calculates the number equally distributed between the two numbers and repalce them at index. \n",
        "            if not(lst[i].isdigit()):\n",
        "                count=lst.count('_')\n",
        "                break\n",
        "        temp1=new_value//(count+1)\n",
        "        for i in range(new_index,len(lst)):\n",
        "            lst[i]=temp1\n",
        "    except:\n",
        "        pass\n",
        "    return lst "
      ],
      "execution_count": 0,
      "outputs": []
    },
    {
      "cell_type": "code",
      "metadata": {
        "id": "tJOni_0bV51_",
        "colab_type": "code",
        "outputId": "d35fa542-f1ee-4ce6-f253-50e72f8f5f0c",
        "colab": {
          "base_uri": "https://localhost:8080/",
          "height": 34
        }
      },
      "source": [
        "S=  \"_,_,30,_,_,_,50,_,_\"\n",
        "smoothed_values= curve_smoothing(S)\n",
        "print(smoothed_values)"
      ],
      "execution_count": 0,
      "outputs": [
        {
          "output_type": "stream",
          "text": [
            "[10, 10, 12, 12, 12, 12, 4, 4, 4]\n"
          ],
          "name": "stdout"
        }
      ]
    },
    {
      "cell_type": "markdown",
      "metadata": {
        "id": "9-Ix6HwEWHVy",
        "colab_type": "text"
      },
      "source": [
        "But i am unable ot combine both on boundary conditions. If you accept the above code i am fine. if not kindly suggest me . Thanks !! \n",
        "\n",
        "I have an idea to store the first digit to second digit in a new list and replace with Sum/len(of list between to digits ) and next calculate from second digit to third digit and replace it with sequence ........I tried in many ways but failed due to boundary conditions. "
      ]
    },
    {
      "cell_type": "markdown",
      "metadata": {
        "id": "RBz4pzlfB-lB",
        "colab_type": "text"
      },
      "source": [
        "<h3> Q8: Filling the missing values in the specified formate</h3>\n",
        "You will be given a list of lists, each sublist will be of length 2 i.e. [[x,y],[p,q],[l,m]..[r,s]]\n",
        "consider its like a martrix of n rows and two columns\n",
        "1. the first column F will contain only 5 uniques values (F1, F2, F3, F4, F5)\n",
        "2. the second column S will contain only 3 uniques values (S1, S2, S3)\n",
        "<pre>\n",
        "your task is to find\n",
        "a. Probability of P(F=F1|S==S1), P(F=F1|S==S2), P(F=F1|S==S3)\n",
        "b. Probability of P(F=F2|S==S1), P(F=F2|S==S2), P(F=F2|S==S3)\n",
        "c. Probability of P(F=F3|S==S1), P(F=F3|S==S2), P(F=F3|S==S3)\n",
        "d. Probability of P(F=F4|S==S1), P(F=F4|S==S2), P(F=F4|S==S3)\n",
        "e. Probability of P(F=F5|S==S1), P(F=F5|S==S2), P(F=F5|S==S3)\n",
        "</pre>\n",
        "Ex:\n",
        "\n",
        "<pre>\n",
        "[[F1,S1],[F2,S2],[F3,S3],[F1,S2],[F2,S3],[F3,S2],[F2,S1],[F4,S1],[F4,S3],[F5,S1]]\n",
        "\n",
        "a. P(F=F1|S==S1)=1/4, P(F=F1|S==S2)=1/3, P(F=F1|S==S3)=0/3\n",
        "b. P(F=F2|S==S1)=1/4, P(F=F2|S==S2)=1/3, P(F=F2|S==S3)=1/3\n",
        "c. P(F=F3|S==S1)=0/4, P(F=F3|S==S2)=1/3, P(F=F3|S==S3)=1/3\n",
        "d. P(F=F4|S==S1)=1/4, P(F=F4|S==S2)=0/3, P(F=F4|S==S3)=1/3\n",
        "e. P(F=F5|S==S1)=1/4, P(F=F5|S==S2)=0/3, P(F=F5|S==S3)=0/3\n",
        "</pre>\n",
        "\n",
        "\n"
      ]
    },
    {
      "cell_type": "markdown",
      "metadata": {
        "id": "QrHKJNc8AXjw",
        "colab_type": "text"
      },
      "source": [
        "I tried on my own but failed at many failed cases. So, copied from below source before that I understood the code. \n",
        "\n",
        "Modified the code a bit from Source.\n",
        "\n",
        "Source : https://stackoverflow.com/questions/57160252/find-conditional-probabilities-using-python"
      ]
    },
    {
      "cell_type": "code",
      "metadata": {
        "id": "e-1giz1MB-lC",
        "colab_type": "code",
        "outputId": "2a5959b3-34a1-4771-d938-b8f1574722e2",
        "colab": {
          "base_uri": "https://localhost:8080/",
          "height": 439
        }
      },
      "source": [
        "# write your python code here\n",
        "# you can take the above example as sample input for your program to test\n",
        "# it should work for any general input try not to hard code for only given input strings\n",
        "\n",
        "listCombine = []\n",
        "listDen = []\n",
        "A = [['F1', 'S1'], ['F2', 'S2'], ['F3', 'S3'], ['F1', 'S2'], ['F2', 'S3'], ['F3', 'S2'], ['F2', 'S1'], ['F4', 'S1'], ['F4', 'S3'], ['F5', 'S1']]\n",
        "def compute_conditional_probabilites(A):\n",
        "  for i in range(len(A)):\n",
        "    k = A[i][0]+A[i][1]\n",
        "    listDen.append(A[i][1])\n",
        "    listCombine.append(k)\n",
        "\n",
        "compute_conditional_probabilites(A)\n",
        "print(\"a.\")\n",
        "print(\"conditional probability P(F=F1|S==S1)=1/4-----\",(listCombine.count('F1S1')/listDen.count('S1')))\n",
        "print(\"conditional probability P(F=F1|S==S2)=1/3-----\",(listCombine.count('F1S2')/listDen.count('S2')))\n",
        "print(\"conditional probability P(F=F1|S==S3)=0/3-----\",(listCombine.count('F1S3')/listDen.count('S3')),\"\\n\")\n",
        "print(\"b.\")\n",
        "print(\"conditional probability P(F=F2|S==S1)=1/4-----\",(listCombine.count('F2S1')/listDen.count('S1')))\n",
        "print(\"conditional probability P(F=F2|S==S2)=1/3-----\",(listCombine.count('F2S2')/listDen.count('S2')))\n",
        "print(\"conditional probability P(F=F2|S==S3)=1/3-----\",(listCombine.count('F3S3')/listDen.count('S3')),\"\\n\")\n",
        "print(\"c.\")\n",
        "print(\"conditional probability P(F=F3|S==S1)=0/4-----\",(listCombine.count('F3S1')/listDen.count('S1')))\n",
        "print(\"conditional probability P(F=F3|S==S2)=1/3-----\",(listCombine.count('F3S2')/listDen.count('S2')))\n",
        "print(\"conditional probability P(F=F3|S==S3)=1/3-----\",(listCombine.count('F3S3')/listDen.count('S3')),\"\\n\")\n",
        "print(\"d.\")\n",
        "print(\"conditional probability P(F=F4|S==S1)=1/4-----\",(listCombine.count('F4S1')/listDen.count('S1')))\n",
        "print(\"conditional probability P(F=F4|S==S2)=0/3-----\",(listCombine.count('F4S2')/listDen.count('S2')))\n",
        "print(\"conditional probability P(F=F4|S==S3)=1/3-----\",(listCombine.count('F4S3')/listDen.count('S3')),\"\\n\")\n",
        "print(\"e.\")\n",
        "print(\"conditional probability P(F=F5|S==S1)=1/4-----\",(listCombine.count('F5S1')/listDen.count('S1')))\n",
        "print(\"conditional probability P(F=F5|S==S2)=0/3-----\",(listCombine.count('F5S2')/listDen.count('S2')))\n",
        "print(\"conditional probability P(F=F5|S==S3)=0/3-----\",(listCombine.count('F5S3')/listDen.count('S3')))"
      ],
      "execution_count": 0,
      "outputs": [
        {
          "output_type": "stream",
          "text": [
            "a.\n",
            "conditional probability P(F=F1|S==S1)=1/4----- 0.25\n",
            "conditional probability P(F=F1|S==S2)=1/3----- 0.3333333333333333\n",
            "conditional probability P(F=F1|S==S3)=0/3----- 0.0 \n",
            "\n",
            "b.\n",
            "conditional probability P(F=F2|S==S1)=1/4----- 0.25\n",
            "conditional probability P(F=F2|S==S2)=1/3----- 0.3333333333333333\n",
            "conditional probability P(F=F2|S==S3)=1/3----- 0.3333333333333333 \n",
            "\n",
            "c.\n",
            "conditional probability P(F=F3|S==S1)=0/4----- 0.0\n",
            "conditional probability P(F=F3|S==S2)=1/3----- 0.3333333333333333\n",
            "conditional probability P(F=F3|S==S3)=1/3----- 0.3333333333333333 \n",
            "\n",
            "d.\n",
            "conditional probability P(F=F4|S==S1)=1/4----- 0.25\n",
            "conditional probability P(F=F4|S==S2)=0/3----- 0.0\n",
            "conditional probability P(F=F4|S==S3)=1/3----- 0.3333333333333333 \n",
            "\n",
            "e.\n",
            "conditional probability P(F=F5|S==S1)=1/4----- 0.25\n",
            "conditional probability P(F=F5|S==S2)=0/3----- 0.0\n",
            "conditional probability P(F=F5|S==S3)=0/3----- 0.0\n"
          ],
          "name": "stdout"
        }
      ]
    },
    {
      "cell_type": "markdown",
      "metadata": {
        "id": "0CMz7KopTJr8",
        "colab_type": "text"
      },
      "source": [
        "Here We can convert the list into dict with default value zero for all keys for any given length of list."
      ]
    },
    {
      "cell_type": "markdown",
      "metadata": {
        "id": "n4HS87QmB-lF",
        "colab_type": "text"
      },
      "source": [
        "<h3> Q9: Given two sentances S1, S2</h3>\n",
        "You will be given two sentances S1, S2 your task is to find \n",
        "<pre>\n",
        "a. Number of common words between S1, S2\n",
        "b. Words in S1 but not in S2\n",
        "c. Words in S2 but not in S1\n",
        "</pre>\n",
        "\n",
        "Ex: \n",
        "<pre>\n",
        "S1= \"the first column F will contain only 5 uniques values\"\n",
        "S2= \"the second column S will contain only 3 uniques values\"\n",
        "Output:\n",
        "a. 7\n",
        "b. ['first','F','5']\n",
        "c. ['second','S','3']\n",
        "</pre>"
      ]
    },
    {
      "cell_type": "code",
      "metadata": {
        "id": "Ez7hlHK0B-lG",
        "colab_type": "code",
        "colab": {}
      },
      "source": [
        "# write your python code here\n",
        "# you can take the above example as sample input for your program to test\n",
        "# it should work for any general input try not to hard code for only given input strings\n",
        "\n",
        "# you can free to change all these codes/structure\n",
        "def string_features(S1, S2):\n",
        "  Words_in_S1 = set(S1.split())                                ## Spliting and convrerting into set for sentence 1\n",
        "  Words_in_S2 = set(S2.split())                                ## Spliting and convrerting into set for sentence 2\n",
        "  a = list(Words_in_S1.intersection(Words_in_S2))              ## Common words is nothing but intersection. so returning the common words in form of list.\n",
        "  a_count = len(a)                                             ## Calculating the len of list which returns number of commons words       \n",
        "  b = list(Words_in_S1.difference(Words_in_S2))                ## Difference is nothing but which ignores common words and return only unique from S1 for this line\n",
        "  c = list(Words_in_S2.difference(Words_in_S1))                ## Difference is nothing but which ignores common words and return only unique from S2 for this line\n",
        "  return a_count, b, c                                         ## Returning the count , unique words in S1 and S2."
      ],
      "execution_count": 0,
      "outputs": []
    },
    {
      "cell_type": "code",
      "metadata": {
        "id": "va7N0hBPnQx9",
        "colab_type": "code",
        "outputId": "ae48d759-38da-4b8a-9b33-9a3a9d2aa03e",
        "colab": {
          "base_uri": "https://localhost:8080/",
          "height": 70
        }
      },
      "source": [
        "S1= \"the first column F will contain only 5 uniques values\"\n",
        "S2= \"the second column S will contain only 3 uniques values\"\n",
        "a,b,c = string_features(S1, S2)\n",
        "print(\" a :\",a,\"\\n\",\"b :\",b,\"\\n\",\"c :\",c)"
      ],
      "execution_count": 0,
      "outputs": [
        {
          "output_type": "stream",
          "text": [
            " a : 7 \n",
            " b : ['F', '5', 'first'] \n",
            " c : ['S', '3', 'second']\n"
          ],
          "name": "stdout"
        }
      ]
    },
    {
      "cell_type": "code",
      "metadata": {
        "id": "E3U4y96VnmoR",
        "colab_type": "code",
        "outputId": "bcbaf53d-8001-4851-d636-88ea1ba29b50",
        "colab": {
          "base_uri": "https://localhost:8080/",
          "height": 70
        }
      },
      "source": [
        "S1= \"Applied AI Course is best of all Analysis courses in India.\"\n",
        "S2= \"AAIC is desinged as per industry standards in India and it has good placement options.\"\n",
        "a,b,c = string_features(S1, S2)\n",
        "print(\" a :\",a,\"\\n\",\"b :\",b,\"\\n\",\"c :\",c)"
      ],
      "execution_count": 0,
      "outputs": [
        {
          "output_type": "stream",
          "text": [
            " a : 2 \n",
            " b : ['AI', 'of', 'best', 'Course', 'Applied', 'India.', 'Analysis', 'all', 'courses'] \n",
            " c : ['India', 'desinged', 'as', 'has', 'placement', 'options.', 'per', 'and', 'industry', 'AAIC', 'standards', 'good', 'it']\n"
          ],
          "name": "stdout"
        }
      ]
    },
    {
      "cell_type": "markdown",
      "metadata": {
        "id": "XefXVEjCB-lI",
        "colab_type": "text"
      },
      "source": [
        "<h3> Q10: Given two sentances S1, S2</h3>\n",
        "You will be given a list of lists, each sublist will be of length 2 i.e. [[x,y],[p,q],[l,m]..[r,s]]\n",
        "consider its like a martrix of n rows and two columns\n",
        "\n",
        "a. the first column Y will contain interger values <br>\n",
        "b. the second column $Y_{score}$ will be having float values <br>\n",
        "Your task is to find the value of $f(Y,Y_{score}) = -1*\\frac{1}{n}\\Sigma_{for each Y,Y_{score} pair}(Ylog10(Y_{score})+(1-Y)log10(1-Y_{score}))$ here n is the number of rows in the matrix\n",
        "<pre>\n",
        "Ex:\n",
        "[[1, 0.4], [0, 0.5], [0, 0.9], [0, 0.3], [0, 0.6], [1, 0.1], [1, 0.9], [1, 0.8]]\n",
        "output:\n",
        "0.4243099\n",
        "</pre>\n",
        "$\\frac{-1}{8}\\cdot((1\\cdot log_{10}(0.4)+0\\cdot log_{10}(0.6))+(0\\cdot log_{10}(0.5)+1\\cdot log_{10}(0.5)) + ... + (1\\cdot log_{10}(0.8)+0\\cdot log_{10}(0.2)) )$"
      ]
    },
    {
      "cell_type": "code",
      "metadata": {
        "id": "N9zkagyNB-lJ",
        "colab_type": "code",
        "outputId": "6de6b96b-e534-42ab-f763-47bfd4bb37c0",
        "colab": {
          "base_uri": "https://localhost:8080/",
          "height": 34
        }
      },
      "source": [
        "# write your python code here\n",
        "# you can take the above example as sample input for your program to test\n",
        "# it should work for any general input try not to hard code for only given input strings\n",
        "\n",
        "\n",
        "# you can free to change all these codes/structure\n",
        "import math\n",
        "\n",
        "def compute_log_loss(A):\n",
        "  compute_loss = 0  \n",
        "  try:\n",
        "    for i in range(len(A)):                      ## Running loop for all points in the list of lists.\n",
        "       compute_loss += (A[i][0] * (math.log10(A[i][1]))) + ((1 - A[i][0]) * (math.log10(1 - A[i][1])))   ## Computing loss for all points.\n",
        "       loss = -1*(1/len(A))*compute_loss     ##  Calculating loss by dividing the compute_loss by len of list of list.\n",
        "    return loss                                ## Returning the loss values\n",
        "  except:\n",
        "    print(\"Please enter digits.\")\n",
        "  \n",
        "A = [[1, 0.4], [0, 0.5], [0, 0.9], [0, 0.3], [0, 0.6], [1, 0.1], [1, 0.9], [1, 0.8]]\n",
        "loss = compute_log_loss(A)\n",
        "print(loss)"
      ],
      "execution_count": 0,
      "outputs": [
        {
          "output_type": "stream",
          "text": [
            "0.42430993457031635\n"
          ],
          "name": "stdout"
        }
      ]
    }
  ]
}