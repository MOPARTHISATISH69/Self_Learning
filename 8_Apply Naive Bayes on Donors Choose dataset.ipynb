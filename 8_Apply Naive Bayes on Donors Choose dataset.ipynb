{
  "nbformat": 4,
  "nbformat_minor": 0,
  "metadata": {
    "colab": {
      "name": "Assignment_NB_Instructions.ipynb",
      "provenance": [],
      "collapsed_sections": []
    },
    "language_info": {
      "codemirror_mode": {
        "name": "ipython",
        "version": 3
      },
      "file_extension": ".py",
      "mimetype": "text/x-python",
      "name": "python",
      "nbconvert_exporter": "python",
      "pygments_lexer": "ipython3",
      "version": "3.6.8"
    },
    "kernelspec": {
      "display_name": "Python 3",
      "language": "python",
      "name": "python3"
    }
  },
  "cells": [
    {
      "cell_type": "markdown",
      "metadata": {
        "id": "PyerVyBRVpfG",
        "colab_type": "text"
      },
      "source": [
        "**Source / Referrence**\n",
        "\n",
        "1. Stack Over Flow\n",
        "2. AAIC referrence I python notebooks and video \n",
        "3. Help from AAIC students. \n",
        "4. Towards datascience. "
      ]
    },
    {
      "cell_type": "markdown",
      "metadata": {
        "id": "Dnubs-Nnb3cw",
        "colab_type": "text"
      },
      "source": [
        "# Assignment 6: Apply NB"
      ]
    },
    {
      "cell_type": "markdown",
      "metadata": {
        "id": "12krXa2pb3c1",
        "colab_type": "text"
      },
      "source": [
        "<ol>\n",
        "    <li><strong>Apply Multinomial NB on these feature sets</strong>\n",
        "        <ul>\n",
        "            <li><font color='red'>Set 1</font>: categorical, numerical features + preprocessed_eassay (BOW)</li>\n",
        "            <li><font color='red'>Set 2</font>: categorical, numerical features + preprocessed_eassay (TFIDF)</li>\n",
        "        </ul>\n",
        "    </li>\n",
        "    <li><strong>The hyper paramter tuning(find best alpha:smoothing parameter)</strong>\n",
        "        <ul>\n",
        "    <li>Find the best hyper parameter which will give the maximum <a href='https://www.appliedaicourse.com/course/applied-ai-course-online/lessons/receiver-operating-characteristic-curve-roc-curve-and-auc-1/'>AUC</a> value</li>\n",
        "    <li>find the best hyper paramter using k-fold cross validation(use GridsearchCV or RandomsearchCV)/simple cross validation data (write for loop to iterate over hyper parameter values)</li>\n",
        "    <li></li>\n",
        "        </ul>\n",
        "    </li>\n",
        "    <li>\n",
        "    <strong>Representation of results</strong>\n",
        "        <ul>\n",
        "    <li>You need to plot the performance of model both on train data and cross validation data for each hyper parameter, like shown in the figure\n",
        "    <img src='https://i.imgur.com/hUv6aEy.jpg' width=300px></li>\n",
        "    <li>Once after you found the best hyper parameter, you need to train your model with it, and find the AUC on test data and plot the ROC curve on both train and test.\n",
        "    <img src='https://i.imgur.com/wMQDTFe.jpg' width=300px></li>\n",
        "    <li>Along with plotting ROC curve, you need to print the <a href='https://www.appliedaicourse.com/course/applied-ai-course-online/lessons/confusion-matrix-tpr-fpr-fnr-tnr-1/'>confusion matrix</a> with predicted and original labels of test data points\n",
        "    <img src='https://i.imgur.com/IdN5Ctv.png' width=300px></li>\n",
        "        </ul>\n",
        "    </li>\n",
        "    <li>\n",
        "fine the top 20 features from either from feature <font color='red'>Set 1</font> or feature <font color='red'>Set 2</font> using absolute values of `feature_log_prob_ ` parameter of `MultinomialNB` \n",
        "(https://scikit-learn.org/stable/modules/generated/sklearn.naive_bayes.MultinomialNB.html) and print their corresponding feature names\n",
        "    </li>\n",
        "    <li>You need to summarize the results at the end of the notebook, summarize it in the table format\n",
        "        <img src='http://i.imgur.com/YVpIGGE.jpg' width=400px>\n",
        "    </li>\n",
        "</ol>"
      ]
    },
    {
      "cell_type": "markdown",
      "metadata": {
        "id": "inzYCIaib3c3",
        "colab_type": "text"
      },
      "source": [
        "<h1>2. Naive Bayes </h1>"
      ]
    },
    {
      "cell_type": "markdown",
      "metadata": {
        "id": "FYqCIxzFb3c5",
        "colab_type": "text"
      },
      "source": [
        "## 1.1 Loading Data"
      ]
    },
    {
      "cell_type": "code",
      "metadata": {
        "id": "ljnDAi5-5lDi",
        "colab_type": "code",
        "outputId": "cbcf871e-b130-4c4a-f36d-e9bab718661e",
        "colab": {
          "resources": {
            "http://localhost:8080/nbextensions/google.colab/files.js": {
              "data": "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",
              "ok": true,
              "headers": [
                [
                  "content-type",
                  "application/javascript"
                ]
              ],
              "status": 200,
              "status_text": ""
            }
          },
          "base_uri": "https://localhost:8080/",
          "height": 75
        }
      },
      "source": [
        "from google.colab import files\n",
        "uploaded = files.upload()"
      ],
      "execution_count": 2,
      "outputs": [
        {
          "output_type": "display_data",
          "data": {
            "text/html": [
              "\n",
              "     <input type=\"file\" id=\"files-e374bd38-ca48-40ab-8a0c-1e00f0952245\" name=\"files[]\" multiple disabled />\n",
              "     <output id=\"result-e374bd38-ca48-40ab-8a0c-1e00f0952245\">\n",
              "      Upload widget is only available when the cell has been executed in the\n",
              "      current browser session. Please rerun this cell to enable.\n",
              "      </output>\n",
              "      <script src=\"/nbextensions/google.colab/files.js\"></script> "
            ],
            "text/plain": [
              "<IPython.core.display.HTML object>"
            ]
          },
          "metadata": {
            "tags": []
          }
        },
        {
          "output_type": "stream",
          "text": [
            "Saving preprocessed_data.csv to preprocessed_data.csv\n"
          ],
          "name": "stdout"
        }
      ]
    },
    {
      "cell_type": "code",
      "metadata": {
        "id": "dA1jknyqb3c_",
        "colab_type": "code",
        "colab": {}
      },
      "source": [
        "import pandas\n",
        "data = pandas.read_csv('preprocessed_data.csv')"
      ],
      "execution_count": 0,
      "outputs": []
    },
    {
      "cell_type": "code",
      "metadata": {
        "id": "C4lKGHUzDixp",
        "colab_type": "code",
        "outputId": "e160ed39-e186-425c-fbc8-7dc49fa37b82",
        "colab": {
          "base_uri": "https://localhost:8080/",
          "height": 282
        }
      },
      "source": [
        "data.head(2)"
      ],
      "execution_count": 4,
      "outputs": [
        {
          "output_type": "execute_result",
          "data": {
            "text/html": [
              "<div>\n",
              "<style scoped>\n",
              "    .dataframe tbody tr th:only-of-type {\n",
              "        vertical-align: middle;\n",
              "    }\n",
              "\n",
              "    .dataframe tbody tr th {\n",
              "        vertical-align: top;\n",
              "    }\n",
              "\n",
              "    .dataframe thead th {\n",
              "        text-align: right;\n",
              "    }\n",
              "</style>\n",
              "<table border=\"1\" class=\"dataframe\">\n",
              "  <thead>\n",
              "    <tr style=\"text-align: right;\">\n",
              "      <th></th>\n",
              "      <th>school_state</th>\n",
              "      <th>teacher_prefix</th>\n",
              "      <th>project_grade_category</th>\n",
              "      <th>teacher_number_of_previously_posted_projects</th>\n",
              "      <th>project_is_approved</th>\n",
              "      <th>clean_categories</th>\n",
              "      <th>clean_subcategories</th>\n",
              "      <th>essay</th>\n",
              "      <th>price</th>\n",
              "      <th>project_title</th>\n",
              "    </tr>\n",
              "  </thead>\n",
              "  <tbody>\n",
              "    <tr>\n",
              "      <th>0</th>\n",
              "      <td>ca</td>\n",
              "      <td>mrs</td>\n",
              "      <td>grades_prek_2</td>\n",
              "      <td>53</td>\n",
              "      <td>1</td>\n",
              "      <td>math_science</td>\n",
              "      <td>appliedsciences health_lifescience</td>\n",
              "      <td>i fortunate enough use fairy tale stem kits cl...</td>\n",
              "      <td>725.05</td>\n",
              "      <td>Educational Support for English Learners at Home</td>\n",
              "    </tr>\n",
              "    <tr>\n",
              "      <th>1</th>\n",
              "      <td>ut</td>\n",
              "      <td>ms</td>\n",
              "      <td>grades_3_5</td>\n",
              "      <td>4</td>\n",
              "      <td>1</td>\n",
              "      <td>specialneeds</td>\n",
              "      <td>specialneeds</td>\n",
              "      <td>imagine 8 9 years old you third grade classroo...</td>\n",
              "      <td>213.03</td>\n",
              "      <td>Wanted: Projector for Hungry Learners</td>\n",
              "    </tr>\n",
              "  </tbody>\n",
              "</table>\n",
              "</div>"
            ],
            "text/plain": [
              "  school_state  ...                                     project_title\n",
              "0           ca  ...  Educational Support for English Learners at Home\n",
              "1           ut  ...             Wanted: Projector for Hungry Learners\n",
              "\n",
              "[2 rows x 10 columns]"
            ]
          },
          "metadata": {
            "tags": []
          },
          "execution_count": 4
        }
      ]
    },
    {
      "cell_type": "code",
      "metadata": {
        "id": "tdZHyTA5wfcF",
        "colab_type": "code",
        "colab": {
          "base_uri": "https://localhost:8080/",
          "height": 35
        },
        "outputId": "e221eea3-8e18-4bfc-9ba7-4699b4cbc5c1"
      },
      "source": [
        "data.shape"
      ],
      "execution_count": 5,
      "outputs": [
        {
          "output_type": "execute_result",
          "data": {
            "text/plain": [
              "(109248, 10)"
            ]
          },
          "metadata": {
            "tags": []
          },
          "execution_count": 5
        }
      ]
    },
    {
      "cell_type": "code",
      "metadata": {
        "id": "xzF84WiXDlxg",
        "colab_type": "code",
        "colab": {}
      },
      "source": [
        "### Separating the class label from our data. \n",
        "y = data['project_is_approved'].values\n",
        "X = data.drop(['project_is_approved'], axis=1)"
      ],
      "execution_count": 0,
      "outputs": []
    },
    {
      "cell_type": "markdown",
      "metadata": {
        "id": "WtVV13Fyb3dH",
        "colab_type": "text"
      },
      "source": [
        "<h2>1.2 Splitting data into Train and cross validation(or test): Stratified Sampling</h2>"
      ]
    },
    {
      "cell_type": "code",
      "metadata": {
        "id": "36d8N89E7adc",
        "colab_type": "code",
        "colab": {
          "base_uri": "https://localhost:8080/",
          "height": 72
        },
        "outputId": "d4061574-cb2a-4bb5-e17f-a3b3cc26c2ea"
      },
      "source": [
        "# importing libraries\n",
        "\n",
        "%matplotlib inline\n",
        "import numpy as np\n",
        "import pandas as pd\n",
        "import matplotlib.pyplot as plt\n",
        "import seaborn as sns\n",
        "\n",
        "import warnings\n",
        "warnings.filterwarnings(\"ignore\")\n",
        "\n",
        "from sklearn.preprocessing import Normalizer\n",
        "from sklearn.feature_extraction.text import TfidfVectorizer\n",
        "from sklearn.feature_extraction.text import CountVectorizer\n",
        "from sklearn.metrics import confusion_matrix\n",
        "from sklearn import metrics\n",
        "from sklearn.metrics import roc_curve, auc\n",
        "\n",
        "from tqdm import tqdm\n",
        "\n",
        "from scipy.sparse import hstack\n",
        "\n",
        "from sklearn.naive_bayes import MultinomialNB"
      ],
      "execution_count": 7,
      "outputs": [
        {
          "output_type": "stream",
          "text": [
            "/usr/local/lib/python3.6/dist-packages/statsmodels/tools/_testing.py:19: FutureWarning: pandas.util.testing is deprecated. Use the functions in the public API at pandas.testing instead.\n",
            "  import pandas.util.testing as tm\n"
          ],
          "name": "stderr"
        }
      ]
    },
    {
      "cell_type": "code",
      "metadata": {
        "id": "i-PyprDNb3dI",
        "colab_type": "code",
        "colab": {}
      },
      "source": [
        "# please write all the code with proper documentation, and proper titles for each subsection\n",
        "# go through documentations and blogs before you start coding\n",
        "# first figure out what to do, and then think about how to do.\n",
        "# reading and understanding error messages will be very much helpfull in debugging your code\n",
        "# when you plot any graph make sure you use \n",
        "    # a. Title, that describes your plot, this will be very helpful to the reader\n",
        "    # b. Legends if needed\n",
        "    # c. X-axis label\n",
        "    # d. Y-axis label"
      ],
      "execution_count": 0,
      "outputs": []
    },
    {
      "cell_type": "code",
      "metadata": {
        "id": "aK9towKUDy8d",
        "colab_type": "code",
        "outputId": "86d1bdf2-6d33-4a5a-d273-bf004fda3e25",
        "colab": {
          "base_uri": "https://localhost:8080/",
          "height": 70
        }
      },
      "source": [
        "y = data['project_is_approved'].values\n",
        "X = data.drop(['project_is_approved'], axis=1)\n",
        "\n",
        "from sklearn.model_selection import train_test_split\n",
        "X_train, X_test, y_train, y_test = train_test_split(X, y, test_size=0.33, stratify=y)\n",
        "X_train, X_cv, y_train, y_cv = train_test_split(X_train, y_train, test_size=0.33, stratify=y_train)\n",
        "\n",
        "print(X_train.shape, y_train.shape)\n",
        "print(X_cv.shape, y_cv.shape)\n",
        "print(X_test.shape, y_test.shape)"
      ],
      "execution_count": 8,
      "outputs": [
        {
          "output_type": "stream",
          "text": [
            "(49041, 9) (49041,)\n",
            "(24155, 9) (24155,)\n",
            "(36052, 9) (36052,)\n"
          ],
          "name": "stdout"
        }
      ]
    },
    {
      "cell_type": "markdown",
      "metadata": {
        "id": "EnZwVNULb3dO",
        "colab_type": "text"
      },
      "source": [
        "<h2>1.3 Make Data Model Ready: encoding eassay, and project_title</h2>"
      ]
    },
    {
      "cell_type": "code",
      "metadata": {
        "id": "-SczZKiab3dR",
        "colab_type": "code",
        "colab": {}
      },
      "source": [
        "# please write all the code with proper documentation, and proper titles for each subsection\n",
        "# go through documentations and blogs before you start coding\n",
        "# first figure out what to do, and then think about how to do.\n",
        "# reading and understanding error messages will be very much helpfull in debugging your code\n",
        "# make sure you featurize train and test data separatly\n",
        "\n",
        "# when you plot any graph make sure you use \n",
        "    # a. Title, that describes your plot, this will be very helpful to the reader\n",
        "    # b. Legends if needed\n",
        "    # c. X-axis label\n",
        "    # d. Y-axis label"
      ],
      "execution_count": 0,
      "outputs": []
    },
    {
      "cell_type": "code",
      "metadata": {
        "id": "yyDEAc7u7K1b",
        "colab_type": "code",
        "colab": {}
      },
      "source": [
        "unique_words_bow = []\n",
        "unique_words_tfidf = []"
      ],
      "execution_count": 0,
      "outputs": []
    },
    {
      "cell_type": "code",
      "metadata": {
        "id": "-oZVOYXFD5VV",
        "colab_type": "code",
        "outputId": "d452cc17-cf30-4320-b3d7-b6063b64533f",
        "colab": {
          "base_uri": "https://localhost:8080/",
          "height": 124
        }
      },
      "source": [
        "### SET - 1 (categorical, numerical features + preprocessed_eassay (BOW))\n",
        "### essay\n",
        "\n",
        "vectorizer_bow = CountVectorizer(min_df=10, ngram_range=(1,4), max_features=5000)\n",
        "vectorizer_bow.fit(X_train['essay'].values) # fit has to happen only on train data\n",
        "\n",
        "# we use the fitted CountVectorizer to convert the text to vector\n",
        "X_train_essay_bow = vectorizer_bow.transform(X_train['essay'].values)\n",
        "X_cv_essay_bow = vectorizer_bow.transform(X_cv['essay'].values)\n",
        "X_test_essay_bow = vectorizer_bow.transform(X_test['essay'].values)\n",
        "\n",
        "print(\"After vectorizations\")\n",
        "print(X_train_essay_bow.shape, y_train.shape)\n",
        "print(X_cv_essay_bow.shape, y_cv.shape)\n",
        "print(X_test_essay_bow.shape, y_test.shape)\n",
        "print('*' * 20)\n",
        "for val in vectorizer_bow.get_feature_names():\n",
        "    unique_words_bow.append(val)\n",
        "    \n",
        "print(len(unique_words_bow))    "
      ],
      "execution_count": 10,
      "outputs": [
        {
          "output_type": "stream",
          "text": [
            "After vectorizations\n",
            "(49041, 5000) (49041,)\n",
            "(24155, 5000) (24155,)\n",
            "(36052, 5000) (36052,)\n",
            "********************\n",
            "5000\n"
          ],
          "name": "stdout"
        }
      ]
    },
    {
      "cell_type": "code",
      "metadata": {
        "id": "Upb3oL_PENP4",
        "colab_type": "code",
        "outputId": "35259e89-847d-43cf-a3c2-38f2cd43e90d",
        "colab": {
          "base_uri": "https://localhost:8080/",
          "height": 124
        }
      },
      "source": [
        "### SET - 2 (categorical, numerical features + preprocessed_eassay (TFIDF))\n",
        "### Essay\n",
        "\n",
        "vectorizer_tfidf = TfidfVectorizer(min_df=10, ngram_range=(1,4), max_features=5000)\n",
        "vectorizer_tfidf.fit(X_train['essay'].values) # fit has to happen only on train data\n",
        "\n",
        "# we use the fitted CountVectorizer to convert the text to vector\n",
        "X_train_essay_tfidf = vectorizer_tfidf.transform(X_train['essay'].values)\n",
        "X_cv_essay_tfidf = vectorizer_tfidf.transform(X_cv['essay'].values)\n",
        "X_test_essay_tfidf = vectorizer_tfidf.transform(X_test['essay'].values)\n",
        "\n",
        "print(\"After vectorizations\")\n",
        "print(X_train_essay_tfidf.shape, y_train.shape)\n",
        "print(X_cv_essay_tfidf.shape, y_cv.shape)\n",
        "print(X_test_essay_tfidf.shape, y_test.shape)\n",
        "print('*' * 20)\n",
        "for val in vectorizer_tfidf.get_feature_names():\n",
        "    unique_words_tfidf.append(val)\n",
        "    \n",
        "print(len(unique_words_tfidf))"
      ],
      "execution_count": 11,
      "outputs": [
        {
          "output_type": "stream",
          "text": [
            "After vectorizations\n",
            "(49041, 5000) (49041,)\n",
            "(24155, 5000) (24155,)\n",
            "(36052, 5000) (36052,)\n",
            "********************\n",
            "5000\n"
          ],
          "name": "stdout"
        }
      ]
    },
    {
      "cell_type": "markdown",
      "metadata": {
        "id": "bGy86kgHb3dX",
        "colab_type": "text"
      },
      "source": [
        "<h2>1.4 Make Data Model Ready: encoding numerical, categorical features</h2>"
      ]
    },
    {
      "cell_type": "code",
      "metadata": {
        "id": "EfXkofX1b3da",
        "colab_type": "code",
        "colab": {}
      },
      "source": [
        "# please write all the code with proper documentation, and proper titles for each subsection\n",
        "# go through documentations and blogs before you start coding \n",
        "# first figure out what to do, and then think about how to do.\n",
        "# reading and understanding error messages will be very much helpfull in debugging your code\n",
        "# make sure you featurize train and test data separatly\n",
        "\n",
        "# when you plot any graph make sure you use \n",
        "    # a. Title, that describes your plot, this will be very helpful to the reader\n",
        "    # b. Legends if needed\n",
        "    # c. X-axis label\n",
        "    # d. Y-axis label"
      ],
      "execution_count": 0,
      "outputs": []
    },
    {
      "cell_type": "code",
      "metadata": {
        "id": "eBmoRgMgEbiF",
        "colab_type": "code",
        "outputId": "327d0859-166c-48c7-bbf2-01a183232bac",
        "colab": {
          "base_uri": "https://localhost:8080/",
          "height": 124
        }
      },
      "source": [
        "## Performing one hot encoding on categorical features like school_state, teacher_prefix, project_grade_category\n",
        "## Apply encoding on categorical features and numerical features\n",
        "## Project Title.\n",
        "\n",
        "vectorizer_bow_2 = CountVectorizer(min_df=10, max_features=5000)\n",
        "vectorizer_bow_2.fit(X_train['project_title'].values.astype('U')) # fit has to happen only on train data\n",
        "\n",
        "# we use the fitted CountVectorizer to convert the text to vector\n",
        "X_train_title_bow = vectorizer_bow_2.transform(X_train['project_title'].values.astype('U'))\n",
        "X_cv_title_bow = vectorizer_bow_2.transform(X_cv['project_title'].values.astype('U'))\n",
        "X_test_title_bow = vectorizer_bow_2.transform(X_test['project_title'].values.astype('U'))\n",
        "\n",
        "print(\"After vectorizations\")\n",
        "print(X_train_title_bow.shape, y_train.shape)\n",
        "print(X_cv_title_bow.shape, y_cv.shape)\n",
        "print(X_test_title_bow.shape, y_test.shape)\n",
        "print('*' * 20)\n",
        "for val in vectorizer_bow_2.get_feature_names():\n",
        "    unique_words_bow.append(val)\n",
        "    \n",
        "print(len(unique_words_bow))"
      ],
      "execution_count": 12,
      "outputs": [
        {
          "output_type": "stream",
          "text": [
            "After vectorizations\n",
            "(49041, 2103) (49041,)\n",
            "(24155, 2103) (24155,)\n",
            "(36052, 2103) (36052,)\n",
            "********************\n",
            "7103\n"
          ],
          "name": "stdout"
        }
      ]
    },
    {
      "cell_type": "code",
      "metadata": {
        "id": "AM6IcSIxEhmu",
        "colab_type": "code",
        "outputId": "9795a278-ee76-4b1f-f1cf-04b522ce12f5",
        "colab": {
          "base_uri": "https://localhost:8080/",
          "height": 124
        }
      },
      "source": [
        "vectorizer_tfidf_2 = TfidfVectorizer(min_df=10, max_features=5000)\n",
        "vectorizer_tfidf_2.fit(X_train['project_title'].values.astype('U')) # fit has to happen only on train data\n",
        "\n",
        "# we use the fitted CountVectorizer to convert the text to vector\n",
        "X_train_title_tfidf = vectorizer_tfidf_2.transform(X_train['project_title'].values.astype('U'))\n",
        "X_cv_title_tfidf = vectorizer_tfidf_2.transform(X_cv['project_title'].values.astype('U'))\n",
        "X_test_title_tfidf = vectorizer_tfidf_2.transform(X_test['project_title'].values.astype('U'))\n",
        "\n",
        "print(\"After vectorizations\")\n",
        "print(X_train_title_tfidf.shape, y_train.shape)\n",
        "print(X_cv_title_tfidf.shape, y_cv.shape)\n",
        "print(X_test_title_tfidf.shape, y_test.shape)\n",
        "print('*' * 20)\n",
        "for val in vectorizer_tfidf_2.get_feature_names():\n",
        "    unique_words_tfidf.append(val)\n",
        "    \n",
        "print(len(unique_words_tfidf))"
      ],
      "execution_count": 13,
      "outputs": [
        {
          "output_type": "stream",
          "text": [
            "After vectorizations\n",
            "(49041, 2103) (49041,)\n",
            "(24155, 2103) (24155,)\n",
            "(36052, 2103) (36052,)\n",
            "********************\n",
            "7103\n"
          ],
          "name": "stdout"
        }
      ]
    },
    {
      "cell_type": "code",
      "metadata": {
        "id": "g06x3mcWEqOf",
        "colab_type": "code",
        "outputId": "e8a93f16-ef10-43ad-b3b4-42b946e14294",
        "colab": {
          "base_uri": "https://localhost:8080/",
          "height": 141
        }
      },
      "source": [
        "## SET - 1 & SET -2\n",
        "## teacher_prefix\n",
        "\n",
        "vectorizer3 = CountVectorizer()\n",
        "vectorizer3.fit(X_train['teacher_prefix'].values) # fit has to happen only on train data\n",
        "\n",
        "# we use the fitted CountVectorizer to convert the text to vector\n",
        "X_train_teacher_ohe = vectorizer3.transform(X_train['teacher_prefix'].values)\n",
        "X_cv_teacher_ohe = vectorizer3.transform(X_cv['teacher_prefix'].values)\n",
        "X_test_teacher_ohe = vectorizer3.transform(X_test['teacher_prefix'].values)\n",
        "\n",
        "print(\"After vectorizations\")\n",
        "print(X_train_teacher_ohe.shape, y_train.shape)\n",
        "print(X_cv_teacher_ohe.shape, y_cv.shape)\n",
        "print(X_test_teacher_ohe.shape, y_test.shape)\n",
        "print('*' * 20)\n",
        "for val in vectorizer3.get_feature_names():\n",
        "    unique_words_bow.append(val)\n",
        "    unique_words_tfidf.append(val)\n",
        "    \n",
        "print(len(unique_words_bow))\n",
        "print(len(unique_words_tfidf))"
      ],
      "execution_count": 14,
      "outputs": [
        {
          "output_type": "stream",
          "text": [
            "After vectorizations\n",
            "(49041, 5) (49041,)\n",
            "(24155, 5) (24155,)\n",
            "(36052, 5) (36052,)\n",
            "********************\n",
            "7108\n",
            "7108\n"
          ],
          "name": "stdout"
        }
      ]
    },
    {
      "cell_type": "code",
      "metadata": {
        "id": "iwm51recEtm5",
        "colab_type": "code",
        "outputId": "95fbc060-abb5-4efa-cdf7-831953036fd3",
        "colab": {
          "base_uri": "https://localhost:8080/",
          "height": 141
        }
      },
      "source": [
        "## school_state\n",
        "\n",
        "vectorizer4 = CountVectorizer()\n",
        "vectorizer4.fit(X_train['school_state'].values) # fit has to happen only on train data\n",
        "\n",
        "# we use the fitted CountVectorizer to convert the text to vector\n",
        "X_train_state_ohe = vectorizer4.transform(X_train['school_state'].values)\n",
        "X_cv_state_ohe = vectorizer4.transform(X_cv['school_state'].values)\n",
        "X_test_state_ohe = vectorizer4.transform(X_test['school_state'].values)\n",
        "\n",
        "print(\"After vectorizations\")\n",
        "print(X_train_state_ohe.shape, y_train.shape)\n",
        "print(X_cv_state_ohe.shape, y_cv.shape)\n",
        "print(X_test_state_ohe.shape, y_test.shape)\n",
        "print('*' * 20)\n",
        "for val in vectorizer4.get_feature_names():\n",
        "    unique_words_bow.append(val)\n",
        "    unique_words_tfidf.append(val)\n",
        "    \n",
        "print(len(unique_words_bow))\n",
        "print(len(unique_words_tfidf))\n"
      ],
      "execution_count": 15,
      "outputs": [
        {
          "output_type": "stream",
          "text": [
            "After vectorizations\n",
            "(49041, 51) (49041,)\n",
            "(24155, 51) (24155,)\n",
            "(36052, 51) (36052,)\n",
            "********************\n",
            "7159\n",
            "7159\n"
          ],
          "name": "stdout"
        }
      ]
    },
    {
      "cell_type": "code",
      "metadata": {
        "id": "iJRK-zFfysHz",
        "colab_type": "code",
        "colab": {
          "base_uri": "https://localhost:8080/",
          "height": 141
        },
        "outputId": "bc603bcd-9e7f-4432-8595-3de17bfb9454"
      },
      "source": [
        "## project_grade_category\n",
        "\n",
        "vectorizer5 = CountVectorizer()\n",
        "vectorizer5.fit(X_train['project_grade_category'].values) # fit has to happen only on train data\n",
        "\n",
        "# we use the fitted CountVectorizer to convert the text to vector\n",
        "X_train_grade_ohe = vectorizer5.transform(X_train['project_grade_category'].values)\n",
        "X_cv_grade_ohe = vectorizer5.transform(X_cv['project_grade_category'].values)\n",
        "X_test_grade_ohe = vectorizer5.transform(X_test['project_grade_category'].values)\n",
        "\n",
        "print(\"After vectorizations\")\n",
        "print(X_train_grade_ohe.shape, y_train.shape)\n",
        "print(X_cv_grade_ohe.shape, y_cv.shape)\n",
        "print(X_test_grade_ohe.shape, y_test.shape)\n",
        "print('*' * 20)\n",
        "for val in vectorizer5.get_feature_names():\n",
        "    unique_words_bow.append(val)\n",
        "    unique_words_tfidf.append(val)\n",
        "    \n",
        "print(len(unique_words_bow))\n",
        "print(len(unique_words_tfidf))"
      ],
      "execution_count": 16,
      "outputs": [
        {
          "output_type": "stream",
          "text": [
            "After vectorizations\n",
            "(49041, 4) (49041,)\n",
            "(24155, 4) (24155,)\n",
            "(36052, 4) (36052,)\n",
            "********************\n",
            "7163\n",
            "7163\n"
          ],
          "name": "stdout"
        }
      ]
    },
    {
      "cell_type": "code",
      "metadata": {
        "id": "Z5SXqupKzgkm",
        "colab_type": "code",
        "colab": {
          "base_uri": "https://localhost:8080/",
          "height": 141
        },
        "outputId": "e7bdd05c-1c5d-4a2b-849a-35bbb68521b4"
      },
      "source": [
        "## price\n",
        "normalizer = Normalizer()\n",
        "normalizer.fit(X_train['price'].values.reshape(1,-1))\n",
        "\n",
        "X_train_price_norm = normalizer.transform(X_train['price'].values.reshape(1,-1))\n",
        "X_cv_price_norm = normalizer.transform(X_cv['price'].values.reshape(1,-1))\n",
        "X_test_price_norm = normalizer.transform(X_test['price'].values.reshape(1,-1))\n",
        "\n",
        "X_train_price_norm = X_train_price_norm.reshape(-1,1)\n",
        "X_cv_price_norm = X_cv_price_norm.reshape(-1,1)\n",
        "X_test_price_norm = X_test_price_norm.reshape(-1,1)\n",
        "\n",
        "\n",
        "print(\"After vectorizations\")\n",
        "print(X_train_price_norm.shape, y_train.shape)\n",
        "print(X_cv_price_norm.shape, y_cv.shape)\n",
        "print(X_test_price_norm.shape, y_test.shape)\n",
        "print('*' * 20)\n",
        "unique_words_bow.append('price')\n",
        "unique_words_tfidf.append('price')\n",
        "print(len(unique_words_bow))\n",
        "print(len(unique_words_tfidf))"
      ],
      "execution_count": 18,
      "outputs": [
        {
          "output_type": "stream",
          "text": [
            "After vectorizations\n",
            "(49041, 1) (49041,)\n",
            "(24155, 1) (24155,)\n",
            "(36052, 1) (36052,)\n",
            "********************\n",
            "7164\n",
            "7164\n"
          ],
          "name": "stdout"
        }
      ]
    },
    {
      "cell_type": "code",
      "metadata": {
        "id": "xiFKbGMezqXZ",
        "colab_type": "code",
        "colab": {
          "base_uri": "https://localhost:8080/",
          "height": 141
        },
        "outputId": "1885af5f-3d1e-4ce7-a19c-2f579561629e"
      },
      "source": [
        "## teacher_number_of_previously_posted_projects\n",
        "\n",
        "normalizer = Normalizer()\n",
        "\n",
        "normalizer.fit(X_train['teacher_number_of_previously_posted_projects'].values.reshape(1,-1))\n",
        "\n",
        "X_train_previously_posted_norm = normalizer.transform(X_train['teacher_number_of_previously_posted_projects'].values.reshape(1,-1))\n",
        "X_cv_previously_posted_norm = normalizer.transform(X_cv['teacher_number_of_previously_posted_projects'].values.reshape(1,-1))\n",
        "X_test_previously_posted_norm = normalizer.transform(X_test['teacher_number_of_previously_posted_projects'].values.reshape(1,-1))\n",
        "\n",
        "X_train_previously_posted_norm = X_train_previously_posted_norm.reshape(-1,1)\n",
        "X_cv_previously_posted_norm = X_cv_previously_posted_norm.reshape(-1,1)\n",
        "X_test_previously_posted_norm = X_test_previously_posted_norm.reshape(-1,1)\n",
        "\n",
        "print(\"After vectorizations\")\n",
        "print(X_train_previously_posted_norm.shape, y_train.shape)\n",
        "print(X_cv_previously_posted_norm.shape, y_cv.shape)\n",
        "print(X_test_previously_posted_norm.shape, y_test.shape)\n",
        "print('*' * 20)\n",
        "unique_words_bow.append('teacher_number_of_previously_posted_projects')\n",
        "unique_words_tfidf.append('teacher_number_of_previously_posted_projects')\n",
        "print(len(unique_words_bow))\n",
        "print(len(unique_words_tfidf))"
      ],
      "execution_count": 19,
      "outputs": [
        {
          "output_type": "stream",
          "text": [
            "After vectorizations\n",
            "(49041, 1) (49041,)\n",
            "(24155, 1) (24155,)\n",
            "(36052, 1) (36052,)\n",
            "********************\n",
            "7165\n",
            "7165\n"
          ],
          "name": "stdout"
        }
      ]
    },
    {
      "cell_type": "code",
      "metadata": {
        "id": "fEx12S4lE1CI",
        "colab_type": "code",
        "outputId": "bea6b19c-f1a5-4ae7-e8d9-da77ae215050",
        "colab": {
          "base_uri": "https://localhost:8080/",
          "height": 106
        }
      },
      "source": [
        " ## Putting all the features together and One data set is for categorical + numerical + essays(BOW)\n",
        "\n",
        "# merge two sparse matrices: https://stackoverflow.com/a/19710648/4084039\n",
        "from scipy.sparse import hstack\n",
        "\n",
        "X_tr_bow = hstack((X_train_essay_bow, X_train_state_ohe, X_train_teacher_ohe, X_train_grade_ohe, X_train_price_norm)).tocsr()\n",
        "X_cr_bow = hstack((X_cv_essay_bow, X_cv_state_ohe, X_cv_teacher_ohe, X_cv_grade_ohe, X_cv_price_norm)).tocsr()\n",
        "X_te_bow = hstack((X_test_essay_bow, X_test_state_ohe, X_test_teacher_ohe, X_test_grade_ohe, X_test_price_norm)).tocsr()\n",
        "\n",
        "print(\"Final Data matrix for dataset_1\")\n",
        "print(X_tr_bow.shape, y_train.shape)\n",
        "print(X_cr_bow.shape, y_cv.shape)\n",
        "print(X_te_bow.shape, y_test.shape)\n",
        "print(\"*\"*100)"
      ],
      "execution_count": 21,
      "outputs": [
        {
          "output_type": "stream",
          "text": [
            "Final Data matrix for dataset_1\n",
            "(49041, 5061) (49041,)\n",
            "(24155, 5061) (24155,)\n",
            "(36052, 5061) (36052,)\n",
            "****************************************************************************************************\n"
          ],
          "name": "stdout"
        }
      ]
    },
    {
      "cell_type": "code",
      "metadata": {
        "id": "-9g6TKa3E-vB",
        "colab_type": "code",
        "outputId": "ac2f61f6-c659-4848-916d-2cde413d9c4b",
        "colab": {
          "base_uri": "https://localhost:8080/",
          "height": 106
        }
      },
      "source": [
        "## Another data set for categorical + numerical + essays(TFIDF)\n",
        "\n",
        "# merge two sparse matrices: https://stackoverflow.com/a/19710648/4084039\n",
        "from scipy.sparse import hstack\n",
        "\n",
        "X_tr_tfidf = hstack((X_train_essay_tfidf, X_train_state_ohe, X_train_teacher_ohe, X_train_grade_ohe, X_train_price_norm)).tocsr()\n",
        "X_cr_tfidf = hstack((X_cv_essay_tfidf, X_cv_state_ohe, X_cv_teacher_ohe, X_cv_grade_ohe, X_cv_price_norm)).tocsr()\n",
        "X_te_tfidf = hstack((X_test_essay_tfidf, X_test_state_ohe, X_test_teacher_ohe, X_test_grade_ohe, X_test_price_norm)).tocsr()\n",
        "\n",
        "print(\"Final Data matrix for dataset_2\")\n",
        "print(X_tr_tfidf.shape, y_train.shape)\n",
        "print(X_cr_tfidf.shape, y_cv.shape)\n",
        "print(X_te_tfidf.shape, y_test.shape)\n",
        "print(\"*\"*100)\n"
      ],
      "execution_count": 22,
      "outputs": [
        {
          "output_type": "stream",
          "text": [
            "Final Data matrix for dataset_2\n",
            "(49041, 5061) (49041,)\n",
            "(24155, 5061) (24155,)\n",
            "(36052, 5061) (36052,)\n",
            "****************************************************************************************************\n"
          ],
          "name": "stdout"
        }
      ]
    },
    {
      "cell_type": "markdown",
      "metadata": {
        "id": "yYHPYadYb3dh",
        "colab_type": "text"
      },
      "source": [
        "<h2>1.5 Appling NB on different kind of featurization as mentioned in the instructions</h2>\n",
        "\n",
        "<br>Apply NB on different kind of featurization as mentioned in the instructions\n",
        "<br> For Every model that you work on make sure you do the step 2 and step 3 of instrucations"
      ]
    },
    {
      "cell_type": "code",
      "metadata": {
        "id": "DNwqilFxb3di",
        "colab_type": "code",
        "colab": {}
      },
      "source": [
        "# please write all the code with proper documentation, and proper titles for each subsection\n",
        "# go through documentations and blogs before you start coding\n",
        "# first figure out what to do, and then think about how to do.\n",
        "# reading and understanding error messages will be very much helpfull in debugging your code\n",
        "# when you plot any graph make sure you use \n",
        "    # a. Title, that describes your plot, this will be very helpful to the reader\n",
        "    # b. Legends if needed\n",
        "    # c. X-axis label\n",
        "    # d. Y-axis label"
      ],
      "execution_count": 0,
      "outputs": []
    },
    {
      "cell_type": "code",
      "metadata": {
        "id": "zFodXZuzGVyz",
        "colab_type": "code",
        "colab": {}
      },
      "source": [
        "## Appling Multinomial NB: BOW featurization\n",
        "\n",
        "def batch_predict(clf, data):\n",
        "    # roc_auc_score(y_true, y_score) the 2nd parameter should be probability estimates of the positive class\n",
        "    # not the predicted outputs\n",
        "\n",
        "    y_data_pred = []\n",
        "    tr_loop = data.shape[0] - data.shape[0]%1000\n",
        "    # consider you X_tr shape is 49041, then your tr_loop will be 49041 - 49041%1000 = 49000\n",
        "    # in this for loop we will iterate unti the last 1000 multiplier\n",
        "    for i in range(0, tr_loop, 1000):\n",
        "        y_data_pred.extend(clf.predict_proba(data[i:i+1000])[:,1])\n",
        "    # we will be predicting for the last data points\n",
        "    if data.shape[0]%1000 !=0:\n",
        "        y_data_pred.extend(clf.predict_proba(data[tr_loop:])[:,1])\n",
        "    \n",
        "    return y_data_pred"
      ],
      "execution_count": 0,
      "outputs": []
    },
    {
      "cell_type": "code",
      "metadata": {
        "id": "8CfVkq5aGhUr",
        "colab_type": "code",
        "outputId": "a6d5809b-3a9c-4048-8a97-a17118132bb1",
        "colab": {
          "base_uri": "https://localhost:8080/",
          "height": 330
        }
      },
      "source": [
        "## Set-1\n",
        "from sklearn.metrics import roc_auc_score\n",
        "import math as mt\n",
        "\"\"\"\n",
        "y_true : array, shape = [n_samples] or [n_samples, n_classes]\n",
        "True binary labels or binary label indicators.\n",
        "\n",
        "y_score : array, shape = [n_samples] or [n_samples, n_classes]\n",
        "Target scores, can either be probability estimates of the positive class, confidence values, or non-thresholded measure of\n",
        "decisions (as returned by “decision_function” on some classifiers). \n",
        "For binary y_true, y_score is supposed to be the score of the class with greater label.\n",
        "\n",
        "\"\"\"\n",
        "\n",
        "train_auc = []\n",
        "cv_auc = []\n",
        "log_alpha = []\n",
        "alpha = [10**-4,10**-3,10**-2,10**-1,10**0,10**1,10**2,10**3,10**4]\n",
        "for i in tqdm(alpha):\n",
        "    log_alpha.append(mt.log10(i))\n",
        "    nb = MultinomialNB(alpha=i, class_prior = [0.5, 0.5])\n",
        "    nb.fit(X_tr_bow, y_train)\n",
        "\n",
        "    y_train_pred = batch_predict(nb, X_tr_bow)    \n",
        "    y_cv_pred = batch_predict(nb, X_cr_bow)\n",
        "\n",
        "    # roc_auc_score(y_true, y_score) the 2nd parameter should be probability estimates of the positive class\n",
        "    # not the predicted outputs        \n",
        "    train_auc.append(roc_auc_score(y_train,y_train_pred))\n",
        "    cv_auc.append(roc_auc_score(y_cv, y_cv_pred))\n",
        "\n",
        "print(log_alpha)\n",
        "plt.plot(log_alpha, train_auc, label='Train AUC')\n",
        "plt.plot(log_alpha, cv_auc, label='CV AUC')\n",
        "\n",
        "plt.scatter(log_alpha, train_auc, label='Train AUC points')\n",
        "plt.scatter(log_alpha, cv_auc, label='CV AUC points')\n",
        "\n",
        "plt.legend()\n",
        "plt.xlabel(\"alpha logs\")\n",
        "plt.ylabel(\"AUC\")\n",
        "plt.title(\"Hyperparameter Tunning\")\n",
        "plt.grid()"
      ],
      "execution_count": 26,
      "outputs": [
        {
          "output_type": "stream",
          "text": [
            "100%|██████████| 9/9 [00:02<00:00,  4.16it/s]\n"
          ],
          "name": "stderr"
        },
        {
          "output_type": "stream",
          "text": [
            "[-4.0, -3.0, -2.0, -1.0, 0.0, 1.0, 2.0, 3.0, 4.0]\n"
          ],
          "name": "stdout"
        },
        {
          "output_type": "display_data",
          "data": {
            "image/png": "[encoded data removed]",
            "text/plain": [
              "<Figure size 432x288 with 1 Axes>"
            ]
          },
          "metadata": {
            "tags": [],
            "needs_background": "light"
          }
        }
      ]
    },
    {
      "cell_type": "code",
      "metadata": {
        "id": "2sB9LhJz0uHT",
        "colab_type": "code",
        "colab": {
          "base_uri": "https://localhost:8080/",
          "height": 295
        },
        "outputId": "5ddf825a-09f5-42d1-df06-2faef2e81974"
      },
      "source": [
        "nb = MultinomialNB(alpha=1)\n",
        "nb.fit(X_tr_bow, y_train)\n",
        "# roc_auc_score(y_true, y_score) the 2nd parameter should be probability estimates of the positive class\n",
        "# not the predicted outputs\n",
        "\n",
        "y_train_pred = batch_predict(nb, X_tr_bow)    \n",
        "y_test_pred = batch_predict(nb, X_te_bow)\n",
        "\n",
        "train_fpr, train_tpr, tr_thresholds = roc_curve(y_train, y_train_pred)\n",
        "test_fpr, test_tpr, te_thresholds = roc_curve(y_test, y_test_pred)\n",
        "\n",
        "plt.plot(train_fpr, train_tpr, label=\"train AUC =\"+str(auc(train_fpr, train_tpr)))\n",
        "plt.plot(test_fpr, test_tpr, label=\"test AUC =\"+str(auc(test_fpr, test_tpr)))\n",
        "plt.legend()\n",
        "plt.xlabel(\"alpha: hyperparameter\")\n",
        "plt.ylabel(\"AUC\")\n",
        "plt.title(\"ERROR PLOTS\")\n",
        "plt.grid()"
      ],
      "execution_count": 29,
      "outputs": [
        {
          "output_type": "display_data",
          "data": {
            "image/png": "[encoded data removed]",
            "text/plain": [
              "<Figure size 432x288 with 1 Axes>"
            ]
          },
          "metadata": {
            "tags": [],
            "needs_background": "light"
          }
        }
      ]
    },
    {
      "cell_type": "markdown",
      "metadata": {
        "id": "bLvcKh5E1bNG",
        "colab_type": "text"
      },
      "source": [
        "**Source**\n",
        "\n",
        "*   https://stackoverflow.com/questions/19233771/sklearn-plot-confusion-matrix-with-labels\n",
        "*   https://stackoverflow.com/questions/29647749/seaborn-showing-scientific-notation-in-heatmap-for-3-digit-numbers\n",
        "*   https://datascience.stackexchange.com/questions/57245/seaborn-heatmap-not-displaying-correctly"
      ]
    },
    {
      "cell_type": "code",
      "metadata": {
        "id": "PBG003SF1AK5",
        "colab_type": "code",
        "colab": {
          "base_uri": "https://localhost:8080/",
          "height": 312
        },
        "outputId": "85af64d5-fc1a-446b-eca2-447a82b950e7"
      },
      "source": [
        "cmset1 = confusion_matrix(y_train, nb.predict(X_tr_bow))\n",
        "ax = plt.subplot()\n",
        "sns.heatmap(cmset1, annot=True, ax=ax, fmt='g')\n",
        "ax.set_ylim([0,2])\n",
        "ax.set_xlabel('Predicted labels')\n",
        "ax.set_ylabel('True labels')\n",
        "ax.set_title('Confusion Matrix')"
      ],
      "execution_count": 32,
      "outputs": [
        {
          "output_type": "execute_result",
          "data": {
            "text/plain": [
              "Text(0.5, 1.0, 'Confusion Matrix')"
            ]
          },
          "metadata": {
            "tags": []
          },
          "execution_count": 32
        },
        {
          "output_type": "display_data",
          "data": {
            "image/png": "[encoded data removed]",
            "text/plain": [
              "<Figure size 432x288 with 2 Axes>"
            ]
          },
          "metadata": {
            "tags": [],
            "needs_background": "light"
          }
        }
      ]
    },
    {
      "cell_type": "code",
      "metadata": {
        "id": "Xwpxok8w1OWB",
        "colab_type": "code",
        "colab": {
          "base_uri": "https://localhost:8080/",
          "height": 312
        },
        "outputId": "8662cef2-bec6-4835-fef1-986100444d89"
      },
      "source": [
        "cmset1_2 = confusion_matrix(y_test, nb.predict(X_te_bow))\n",
        "ax = plt.subplot()\n",
        "sns.heatmap(cmset1_2, annot=True, ax=ax, fmt='g')\n",
        "ax.set_ylim([0,2])\n",
        "ax.set_xlabel('Predicted labels')\n",
        "ax.set_ylabel('True labels')\n",
        "ax.set_title('Confusion Matrix')"
      ],
      "execution_count": 33,
      "outputs": [
        {
          "output_type": "execute_result",
          "data": {
            "text/plain": [
              "Text(0.5, 1.0, 'Confusion Matrix')"
            ]
          },
          "metadata": {
            "tags": []
          },
          "execution_count": 33
        },
        {
          "output_type": "display_data",
          "data": {
            "image/png": "[encoded data removed]",
            "text/plain": [
              "<Figure size 432x288 with 2 Axes>"
            ]
          },
          "metadata": {
            "tags": [],
            "needs_background": "light"
          }
        }
      ]
    },
    {
      "cell_type": "code",
      "metadata": {
        "id": "FGURoOPp1WGO",
        "colab_type": "code",
        "colab": {
          "base_uri": "https://localhost:8080/",
          "height": 124
        },
        "outputId": "be1a6ebf-1a8b-48bd-f5b0-a82c11af5ea7"
      },
      "source": [
        "##20 positive features \n",
        "pos_class_prob_sorted = nb.feature_log_prob_[1, :].argsort()\n",
        "print(pos_class_prob_sorted[:20])\n",
        "print('*' * 50)\n",
        "print(np.take(unique_words_bow, pos_class_prob_sorted[:20]))"
      ],
      "execution_count": 35,
      "outputs": [
        {
          "output_type": "stream",
          "text": [
            "[5051 5046 5050 5028 5026 5041 5039 5060 5000 5008 5029 5030 5007 5011\n",
            " 5049 4240 4460 5032 4438 5021]\n",
            "**************************************************\n",
            "['adhd' 'actively' 'adding' 'ability' 'abc' 'achieving' 'achieve' 'air'\n",
            " '000' '16' 'able' 'aboard' '123' '2017' 'add' 'students use materials'\n",
            " 'these materials allow' 'above' 'the supplies' '5th']\n"
          ],
          "name": "stdout"
        }
      ]
    },
    {
      "cell_type": "code",
      "metadata": {
        "id": "OmqfDd0M1rQS",
        "colab_type": "code",
        "colab": {
          "base_uri": "https://localhost:8080/",
          "height": 141
        },
        "outputId": "3036c494-6846-4b99-a122-bf3332def7a1"
      },
      "source": [
        "## 20 negative features\n",
        "\n",
        "neg_class_prob_sorted = nb.feature_log_prob_[0, :].argsort()\n",
        "print(neg_class_prob_sorted[:20])\n",
        "print('*' * 50)\n",
        "print(np.take(unique_words_bow, neg_class_prob_sorted[:20]))"
      ],
      "execution_count": 36,
      "outputs": [
        {
          "output_type": "stream",
          "text": [
            "[5051  647 5028 5050 5046 4463 4456 4440 5008  912 3959  649 5039 4271\n",
            " 5029  594 4454 4413  593  650]\n",
            "**************************************************\n",
            "['adhd' 'chromebooks allow' 'ability' 'adding' 'actively' 'these stools'\n",
            " 'these chromebooks' 'the wobble' '16' 'core muscles' 'stools allow'\n",
            " 'chromebooks students' 'achieve' 'sturdy' 'able' 'chairs help'\n",
            " 'these chairs' 'the chromebooks' 'chairs allow' 'chromebooks would']\n"
          ],
          "name": "stdout"
        }
      ]
    },
    {
      "cell_type": "code",
      "metadata": {
        "id": "gAzgTxao14P_",
        "colab_type": "code",
        "colab": {
          "base_uri": "https://localhost:8080/",
          "height": 330
        },
        "outputId": "df88f0b5-4cf9-40d8-b71e-f8d832f03070"
      },
      "source": [
        "## Set-2\n",
        "\n",
        "from sklearn.metrics import roc_auc_score\n",
        "\"\"\"\n",
        "y_true : array, shape = [n_samples] or [n_samples, n_classes]\n",
        "True binary labels or binary label indicators.\n",
        "\n",
        "y_score : array, shape = [n_samples] or [n_samples, n_classes]\n",
        "Target scores, can either be probability estimates of the positive class, confidence values, or non-thresholded measure of\n",
        "decisions (as returned by “decision_function” on some classifiers). \n",
        "For binary y_true, y_score is supposed to be the score of the class with greater label.\n",
        "\n",
        "\"\"\"\n",
        "\n",
        "train_auc = []\n",
        "cv_auc = []\n",
        "log_alpha = []\n",
        "alpha = [10**-4,10**-3,10**-2,10**-1,10**0,10**1,10**2,10**3,10**4]\n",
        "for i in tqdm(alpha):\n",
        "    log_alpha.append(mt.log10(i))\n",
        "    nb = MultinomialNB(alpha=i, class_prior = [0.5, 0.5])\n",
        "    nb.fit(X_tr_tfidf, y_train)\n",
        "\n",
        "    y_train_pred = batch_predict(nb, X_tr_tfidf)    \n",
        "    y_cv_pred = batch_predict(nb, X_cr_tfidf)\n",
        "\n",
        "    # roc_auc_score(y_true, y_score) the 2nd parameter should be probability estimates of the positive class\n",
        "    # not the predicted outputs        \n",
        "    train_auc.append(roc_auc_score(y_train,y_train_pred))\n",
        "    cv_auc.append(roc_auc_score(y_cv, y_cv_pred))\n",
        "\n",
        "print(log_alpha)\n",
        "plt.plot(log_alpha, train_auc, label='Train AUC')\n",
        "plt.plot(log_alpha, cv_auc, label='CV AUC')\n",
        "\n",
        "plt.scatter(log_alpha, train_auc, label='Train AUC points')\n",
        "plt.scatter(log_alpha, cv_auc, label='CV AUC points')\n",
        "\n",
        "plt.legend()\n",
        "plt.xlabel(\"alpha: hyperparameter\")\n",
        "plt.ylabel(\"AUC\")\n",
        "plt.title(\"Hyperparameter Tunning\")\n",
        "plt.grid()"
      ],
      "execution_count": 37,
      "outputs": [
        {
          "output_type": "stream",
          "text": [
            "100%|██████████| 9/9 [00:02<00:00,  4.13it/s]\n"
          ],
          "name": "stderr"
        },
        {
          "output_type": "stream",
          "text": [
            "[-4.0, -3.0, -2.0, -1.0, 0.0, 1.0, 2.0, 3.0, 4.0]\n"
          ],
          "name": "stdout"
        },
        {
          "output_type": "display_data",
          "data": {
            "image/png": "[encoded data removed]",
            "text/plain": [
              "<Figure size 432x288 with 1 Axes>"
            ]
          },
          "metadata": {
            "tags": [],
            "needs_background": "light"
          }
        }
      ]
    },
    {
      "cell_type": "code",
      "metadata": {
        "id": "yfAnYtGY2KnK",
        "colab_type": "code",
        "colab": {
          "base_uri": "https://localhost:8080/",
          "height": 295
        },
        "outputId": "e7e9434d-d0ca-4e0e-86be-19c2e5febc5e"
      },
      "source": [
        "nb = MultinomialNB(alpha=1)\n",
        "nb.fit(X_tr_tfidf, y_train)\n",
        "# roc_auc_score(y_true, y_score) the 2nd parameter should be probability estimates of the positive class\n",
        "# not the predicted outputs\n",
        "\n",
        "y_train_pred = batch_predict(nb, X_tr_tfidf)    \n",
        "y_test_pred = batch_predict(nb, X_te_tfidf)\n",
        "\n",
        "train_fpr, train_tpr, tr_thresholds = roc_curve(y_train, y_train_pred)\n",
        "test_fpr, test_tpr, te_thresholds = roc_curve(y_test, y_test_pred)\n",
        "\n",
        "plt.plot(train_fpr, train_tpr, label=\"train AUC =\"+str(auc(train_fpr, train_tpr)))\n",
        "plt.plot(test_fpr, test_tpr, label=\"test AUC =\"+str(auc(test_fpr, test_tpr)))\n",
        "plt.legend()\n",
        "plt.xlabel(\"alpha: hyperparameter\")\n",
        "plt.ylabel(\"AUC\")\n",
        "plt.title(\"ERROR PLOTS\")\n",
        "plt.grid()"
      ],
      "execution_count": 38,
      "outputs": [
        {
          "output_type": "display_data",
          "data": {
            "image/png": "[encoded data removed]",
            "text/plain": [
              "<Figure size 432x288 with 1 Axes>"
            ]
          },
          "metadata": {
            "tags": [],
            "needs_background": "light"
          }
        }
      ]
    },
    {
      "cell_type": "code",
      "metadata": {
        "id": "rqYMZJ022XF5",
        "colab_type": "code",
        "colab": {
          "base_uri": "https://localhost:8080/",
          "height": 312
        },
        "outputId": "812f1bcb-9bd0-44c0-9a36-4acd2abcc28e"
      },
      "source": [
        "cmset2 = confusion_matrix(y_train, nb.predict(X_tr_tfidf))\n",
        "ax = plt.subplot()\n",
        "sns.heatmap(cmset2, annot=True, ax=ax, fmt='g')\n",
        "ax.set_ylim([0,2])\n",
        "ax.set_xlabel('Predicted labels')\n",
        "ax.set_ylabel('True labels')\n",
        "ax.set_title('Confusion Matrix')"
      ],
      "execution_count": 39,
      "outputs": [
        {
          "output_type": "execute_result",
          "data": {
            "text/plain": [
              "Text(0.5, 1.0, 'Confusion Matrix')"
            ]
          },
          "metadata": {
            "tags": []
          },
          "execution_count": 39
        },
        {
          "output_type": "display_data",
          "data": {
            "image/png": "[encoded data removed]",
            "text/plain": [
              "<Figure size 432x288 with 2 Axes>"
            ]
          },
          "metadata": {
            "tags": [],
            "needs_background": "light"
          }
        }
      ]
    },
    {
      "cell_type": "code",
      "metadata": {
        "id": "98N3K7l92bls",
        "colab_type": "code",
        "colab": {
          "base_uri": "https://localhost:8080/",
          "height": 312
        },
        "outputId": "7364b0c9-0ea7-42e9-f9ac-c48caaac84e8"
      },
      "source": [
        "cmset2_1 = confusion_matrix(y_test, nb.predict(X_te_tfidf))\n",
        "ax = plt.subplot()\n",
        "sns.heatmap(cmset2_1, annot=True, ax=ax, fmt='g')\n",
        "ax.set_ylim([0,2])\n",
        "ax.set_xlabel('Predicted labels')\n",
        "ax.set_ylabel('True labels')\n",
        "ax.set_title('Confusion Matrix')"
      ],
      "execution_count": 40,
      "outputs": [
        {
          "output_type": "execute_result",
          "data": {
            "text/plain": [
              "Text(0.5, 1.0, 'Confusion Matrix')"
            ]
          },
          "metadata": {
            "tags": []
          },
          "execution_count": 40
        },
        {
          "output_type": "display_data",
          "data": {
            "image/png": "[encoded data removed]",
            "text/plain": [
              "<Figure size 432x288 with 2 Axes>"
            ]
          },
          "metadata": {
            "tags": [],
            "needs_background": "light"
          }
        }
      ]
    },
    {
      "cell_type": "markdown",
      "metadata": {
        "id": "3IaN69ax2nFk",
        "colab_type": "text"
      },
      "source": [
        "<h1>3. Summary</h1>\n",
        "\n",
        "<br> as mentioned in the step 5 of instructions\n",
        "\n",
        "**Reference: http://zetcode.com/python/prettytable/**"
      ]
    },
    {
      "cell_type": "code",
      "metadata": {
        "id": "G6gr6TuK2paZ",
        "colab_type": "code",
        "colab": {
          "base_uri": "https://localhost:8080/",
          "height": 124
        },
        "outputId": "ba866d1c-fa01-4911-be1b-634125f986d0"
      },
      "source": [
        "from prettytable import PrettyTable\n",
        "tb = PrettyTable()\n",
        "tb.field_names= (\"Vectorizer\", \"Model\", \"HyperParameter\", \"train_AUC\",\"Test_AUC\")\n",
        "tb.add_row([\"BOW\", \"Auto\", 1,0.72,0.68 ])\n",
        "tb.add_row([\"Tf-Idf\", \"Auto\", 1,0.72,0.67])\n",
        "print(tb.get_string(titles = \"Naive Bayes - Observations\"))"
      ],
      "execution_count": 42,
      "outputs": [
        {
          "output_type": "stream",
          "text": [
            "+------------+-------+----------------+-----------+----------+\n",
            "| Vectorizer | Model | HyperParameter | train_AUC | Test_AUC |\n",
            "+------------+-------+----------------+-----------+----------+\n",
            "|    BOW     |  Auto |       1        |    0.72   |   0.68   |\n",
            "|   Tf-Idf   |  Auto |       1        |    0.72   |   0.67   |\n",
            "+------------+-------+----------------+-----------+----------+\n"
          ],
          "name": "stdout"
        }
      ]
    }
  ]
}